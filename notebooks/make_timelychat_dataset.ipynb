{
 "cells": [
  {
   "cell_type": "code",
   "execution_count": 11,
   "metadata": {},
   "outputs": [],
   "source": [
    "import json\n",
    "import random\n",
    "import re\n",
    "from typing import Dict, List, Union\n",
    "\n",
    "from tqdm import tqdm"
   ]
  },
  {
   "cell_type": "code",
   "execution_count": 2,
   "metadata": {},
   "outputs": [
    {
     "name": "stdout",
     "output_type": "stream",
     "text": [
      "# total instances: 57049\n"
     ]
    }
   ],
   "source": [
    "with open(\"../results/gpt-3.5-turbo-0125/1shot/atomic_2020_dialogues.jsonl\") as f:\n",
    "    data = [json.loads(line) for line in f]\n",
    "\n",
    "print(\"# total instances:\", len(data))"
   ]
  },
  {
   "cell_type": "code",
   "execution_count": 9,
   "metadata": {},
   "outputs": [],
   "source": [
    "def parse_dialogue(example: str) -> Dict[str, Union[List[str], str]]:\n",
    "    \"\"\"\n",
    "    Parse a dialogue from a gpt-generated output.\n",
    "\n",
    "    :param example: Generated output from ChatGPT with the following format:\n",
    "    A1: I was at the port for 4 hours.\n",
    "    A2:\n",
    "    [with time elapsed]\n",
    "    A: I just arrived at the port now.\n",
    "    B: What are you going to do?\n",
    "    A: I'm going to take a walk around the port.\n",
    "    B: I see. Have fun.\n",
    "    [4 hours later]\n",
    "    A: The view was amazing! I took a lot of pictures.\n",
    "\n",
    "    [without time elapsed]\n",
    "    A: I'll send you some pictures after I get back.\n",
    "    :return: (context, time_elapsed, delayed_response, immediate_response)\n",
    "    \"\"\"\n",
    "    dialogue = example.split(\"[with time elapsed]\")[1].strip()\n",
    "    dialogue = re.sub(r\"A\\d:\", \"A:\", dialogue)\n",
    "    dialogue = re.sub(r\"B\\d:\", \"B:\", dialogue)\n",
    "\n",
    "    context = \"\\n\".join(dialogue.split(\"later]\\n\")[0].split(\"\\n\")[:-1]).strip()\n",
    "    time_elapsed = dialogue.split(\"later]\\n\")[0].split(\"\\n\")[-1].strip()\n",
    "    penultimate_speaker = context.split(\"\\n\")[-1][0]\n",
    "    if not penultimate_speaker in [\"A\", \"B\"]:\n",
    "        return None\n",
    "\n",
    "    delayed_response = dialogue.split(\"later]\\n\")[1].split(\"\\n\")[0].strip()\n",
    "    if not delayed_response:\n",
    "        return None\n",
    "    target_speaker = delayed_response[0]\n",
    "    if target_speaker not in [\"A\", \"B\"]:\n",
    "        return None\n",
    "\n",
    "    if target_speaker == penultimate_speaker:\n",
    "        context = \"\\n\".join(context.split(\"\\n\")[:-1]).strip()\n",
    "        penultimate_speaker = context.split(\"\\n\")[-1][0]\n",
    "        if not (penultimate_speaker in [\"A\", \"B\"] and penultimate_speaker != target_speaker):\n",
    "            return None\n",
    "\n",
    "    try:\n",
    "        immediate_response = dialogue.split(\"[without time elapsed]\\n\")[1].strip()\n",
    "    except IndexError:\n",
    "        return None\n",
    "    if not immediate_response:\n",
    "        return None\n",
    "\n",
    "    immediate_response = immediate_response.split(\"\\n\")[-1].strip()\n",
    "    if not (immediate_response[0] in [\"A\", \"B\"] and immediate_response[0] == target_speaker):\n",
    "        return None\n",
    "\n",
    "    # postprocess\n",
    "    context = context.replace(\"A: \", \"\").replace(\"B: \", \"\").strip().split(\"\\n\")\n",
    "    time_elapsed = time_elapsed.replace(\"[\", \"\").replace(\"{\", \"\").replace(\"(\", \"\").replace(\"A:\", \"\").replace(\"B:\", \"\").strip()\n",
    "    delayed_response = delayed_response.replace(f\"{target_speaker}:\", \"\").strip()\n",
    "    immediate_response = immediate_response.replace(f\"{target_speaker}:\", \"\").strip()\n",
    "\n",
    "    return {\n",
    "        \"context\": context,\n",
    "        \"time_elapsed\": time_elapsed,\n",
    "        \"delayed_response\": delayed_response,\n",
    "        \"immediate_response\": immediate_response\n",
    "    }"
   ]
  },
  {
   "cell_type": "code",
   "execution_count": 10,
   "metadata": {},
   "outputs": [
    {
     "name": "stdout",
     "output_type": "stream",
     "text": [
      "# filtered instances: 36481\n"
     ]
    }
   ],
   "source": [
    "instances = []\n",
    "for d in data:\n",
    "    # d[0]: user request\n",
    "    # d[1]: api response\n",
    "    output = d[1][\"choices\"][0][\"message\"][\"content\"]\n",
    "\n",
    "    # filter out malformed responses\n",
    "    if not ((\"[with time elapsed]\\n\" in output) and (\"later]\\n\" in output) and (\"[without time elapsed]\\n\" in output)):\n",
    "        continue\n",
    "\n",
    "    instance = parse_dialogue(output)\n",
    "    if instance is not None:\n",
    "        instances.append(instance)\n",
    "\n",
    "print(\"# filtered instances:\", len(instances))"
   ]
  },
  {
   "cell_type": "code",
   "execution_count": 8,
   "metadata": {},
   "outputs": [
    {
     "data": {
      "text/plain": [
       "{'context': [\"Have you ever experienced such a sudden blush? It's so embarrassing.\",\n",
       "  \"Oh no, I hope you're feeling better now. How long does it usually last?\",\n",
       "  \"Usually just a few minutes, it's slowly fading now.\",\n",
       "  \"Take a deep breath, it'll pass.\"],\n",
       " 'time_elapsed': 'a few minutes',\n",
       " 'delayed_response': 'Phew, feeling better now. It was really intense for a moment there.',\n",
       " 'immediate_response': 'I think the moment has passed, feeling like myself again.',\n",
       " 'length': 5}"
      ]
     },
     "execution_count": 8,
     "metadata": {},
     "output_type": "execute_result"
    }
   ],
   "source": [
    "instances[0]"
   ]
  },
  {
   "cell_type": "code",
   "execution_count": 12,
   "metadata": {},
   "outputs": [],
   "source": [
    "random.shuffle(instances)"
   ]
  },
  {
   "cell_type": "code",
   "execution_count": 13,
   "metadata": {},
   "outputs": [],
   "source": [
    "train = instances[:int(0.9 * len(instances))]\n",
    "valid = instances[int(0.9 * len(instances)): int(0.95 * len(instances))]\n",
    "test = instances[int(0.95 * len(instances)):]"
   ]
  },
  {
   "cell_type": "code",
   "execution_count": 14,
   "metadata": {},
   "outputs": [],
   "source": [
    "with open(\"../resources/data/train.json\", \"w\") as f:\n",
    "    json.dump(train, f, indent=2)\n",
    "\n",
    "with open(\"../resources/data/valid.json\", \"w\") as f:\n",
    "    json.dump(valid, f, indent=2)\n",
    "\n",
    "with open(\"../resources/data/test.json\", \"w\") as f:\n",
    "    json.dump(test, f, indent=2)"
   ]
  },
  {
   "cell_type": "code",
   "execution_count": null,
   "metadata": {},
   "outputs": [],
   "source": []
  }
 ],
 "metadata": {
  "kernelspec": {
   "display_name": "venv",
   "language": "python",
   "name": "python3"
  },
  "language_info": {
   "codemirror_mode": {
    "name": "ipython",
    "version": 3
   },
   "file_extension": ".py",
   "mimetype": "text/x-python",
   "name": "python",
   "nbconvert_exporter": "python",
   "pygments_lexer": "ipython3",
   "version": "3.10.12"
  }
 },
 "nbformat": 4,
 "nbformat_minor": 2
}
