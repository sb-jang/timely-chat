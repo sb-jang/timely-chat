{
 "cells": [
  {
   "cell_type": "code",
   "execution_count": 1,
   "metadata": {},
   "outputs": [],
   "source": [
    "import json\n",
    "\n",
    "import numpy as np"
   ]
  },
  {
   "cell_type": "code",
   "execution_count": 18,
   "metadata": {},
   "outputs": [],
   "source": [
    "split = \"test\""
   ]
  },
  {
   "cell_type": "code",
   "execution_count": 19,
   "metadata": {},
   "outputs": [],
   "source": [
    "with open(f\"../resources/data/{split}.json\") as f:\n",
    "    data = json.load(f)"
   ]
  },
  {
   "cell_type": "code",
   "execution_count": 20,
   "metadata": {},
   "outputs": [
    {
     "data": {
      "text/plain": [
       "{'context': [\"Hey B, I'm at the pet store right now!\",\n",
       "  \"Oh wow, what's up? What are you doing there?\",\n",
       "  \"I'm about to get some fish! I read about them and got super excited to own some.\",\n",
       "  \"That's awesome! I hope you find the perfect ones. Enjoy your time there.\"],\n",
       " 'speaker_list': ['A', 'B', 'A', 'B'],\n",
       " 'time_elapsed': '30 minutes',\n",
       " 'target_speaker': 'A',\n",
       " 'timely_response': \"Just got back home with a cute little betta fish! Can't wait to set up its new tank.\",\n",
       " 'untimely_response': 'Heading to the pet store now to get some fish. Excited!',\n",
       " 'narrative': 'After reading about fish, Shalymar excitedly heads to the pet store to fulfill her newfound fascination with aquatic life in just 30 minutes.'}"
      ]
     },
     "execution_count": 20,
     "metadata": {},
     "output_type": "execute_result"
    }
   ],
   "source": [
    "data[1000]"
   ]
  },
  {
   "cell_type": "code",
   "execution_count": 9,
   "metadata": {},
   "outputs": [
    {
     "name": "stdout",
     "output_type": "stream",
     "text": [
      "27531\n"
     ]
    }
   ],
   "source": [
    "minutes = []\n",
    "zeros = []\n",
    "for d in data:\n",
    "    time = d[\"time_elapsed\"]\n",
    "    number = time.split(\" \")[0]\n",
    "    if \"min\" in time:\n",
    "        if number == \"a\":\n",
    "            minutes.append(1)\n",
    "        if number == \"one\":\n",
    "            minutes.append(1)\n",
    "        try:\n",
    "            fp = float(number)\n",
    "            if fp == 0:\n",
    "                zeros.append(fp)\n",
    "            else:\n",
    "                minutes.append(fp)\n",
    "        except:\n",
    "            continue\n",
    "print(len(minutes))"
   ]
  },
  {
   "cell_type": "code",
   "execution_count": 10,
   "metadata": {},
   "outputs": [
    {
     "name": "stdout",
     "output_type": "stream",
     "text": [
      "Stats\n",
      "17.40376303076532\n",
      "15.0\n",
      "11.380268321538479\n",
      "1.0\n",
      "90.0\n"
     ]
    }
   ],
   "source": [
    "print(\"Stats\")\n",
    "print(np.mean(minutes))\n",
    "print(np.median(minutes))\n",
    "print(np.std(minutes))\n",
    "print(np.min(minutes))\n",
    "print(np.max(minutes))"
   ]
  },
  {
   "cell_type": "code",
   "execution_count": 5,
   "metadata": {},
   "outputs": [],
   "source": [
    "def sample_minute() -> int:\n",
    "    \"\"\"\n",
    "    Sample a minute from 0 to 1 from the following distribution:\n",
    "    0.8 for 0 and 0.2 for 1\n",
    "\n",
    "    :return: random minute for immediate response\n",
    "    \"\"\"\n",
    "    return np.random.choice([0, 1], p=[0.8, 0.2])"
   ]
  },
  {
   "cell_type": "code",
   "execution_count": 21,
   "metadata": {},
   "outputs": [
    {
     "name": "stdout",
     "output_type": "stream",
     "text": [
      "5478\n"
     ]
    }
   ],
   "source": [
    "dics = []\n",
    "for d in data:\n",
    "    dics.append({\n",
    "        \"context\": d[\"context\"],\n",
    "        \"speaker_list\": d[\"speaker_list\"],\n",
    "        \"time_elapsed\": d[\"time_elapsed\"],\n",
    "        \"target_speaker\": d[\"target_speaker\"],\n",
    "        \"timely_response\": d[\"timely_response\"],\n",
    "        \"untimely_response\": d[\"untimely_response\"],\n",
    "        \"narrative\": d[\"narrative\"]\n",
    "    })\n",
    "    dics.append({\n",
    "        \"context\": d[\"context\"],\n",
    "        \"speaker_list\": d[\"speaker_list\"],\n",
    "        \"time_elapsed\": \"0 minutes\",\n",
    "        \"target_speaker\": d[\"target_speaker\"],\n",
    "        \"timely_response\": d[\"untimely_response\"],\n",
    "        \"untimely_response\": d[\"timely_response\"],\n",
    "        \"narrative\": d[\"narrative\"]\n",
    "    })\n",
    "print(len(dics))"
   ]
  },
  {
   "cell_type": "code",
   "execution_count": 22,
   "metadata": {},
   "outputs": [],
   "source": [
    "with open(f\"../resources/data/{split}_augmented.json\", \"w\") as f:\n",
    "    json.dump(dics, f, indent=2)"
   ]
  },
  {
   "cell_type": "code",
   "execution_count": null,
   "metadata": {},
   "outputs": [],
   "source": []
  }
 ],
 "metadata": {
  "kernelspec": {
   "display_name": "timely-chat",
   "language": "python",
   "name": "python3"
  },
  "language_info": {
   "codemirror_mode": {
    "name": "ipython",
    "version": 3
   },
   "file_extension": ".py",
   "mimetype": "text/x-python",
   "name": "python",
   "nbconvert_exporter": "python",
   "pygments_lexer": "ipython3",
   "version": "3.11.8"
  }
 },
 "nbformat": 4,
 "nbformat_minor": 2
}
