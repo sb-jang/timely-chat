{
 "cells": [
  {
   "cell_type": "code",
   "execution_count": 1,
   "metadata": {},
   "outputs": [],
   "source": [
    "import json\n",
    "from datetime import datetime\n",
    "from glob import glob\n",
    "from typing import Dict, List\n",
    "\n",
    "import matplotlib.pyplot as plt\n",
    "import numpy as np\n",
    "from tqdm import tqdm"
   ]
  },
  {
   "cell_type": "code",
   "execution_count": 2,
   "metadata": {},
   "outputs": [
    {
     "name": "stdout",
     "output_type": "stream",
     "text": [
      "advanced_sns_files: 1554\n",
      "messenger_files: 4\n",
      "online_conv_files: 72\n"
     ]
    }
   ],
   "source": [
    "advanced_sns_files = glob(\"../raw_data/korean_corpus/advanced_social_network/*.jsonl\")\n",
    "messenger_files = glob(\"../raw_data/korean_corpus/messenger/*.jsonl\")\n",
    "online_conv_files = glob(\"../raw_data/korean_corpus/onlineConversation/*.jsonl\")\n",
    "print(f\"advanced_sns_files: {len(advanced_sns_files)}\")\n",
    "print(f\"messenger_files: {len(messenger_files)}\")\n",
    "print(f\"online_conv_files: {len(online_conv_files)}\")"
   ]
  },
  {
   "cell_type": "code",
   "execution_count": 3,
   "metadata": {},
   "outputs": [
    {
     "name": "stderr",
     "output_type": "stream",
     "text": [
      "100%|██████████| 1554/1554 [00:41<00:00, 37.86it/s]\n",
      "100%|██████████| 4/4 [00:00<00:00,  8.12it/s]\n",
      "100%|██████████| 72/72 [00:01<00:00, 39.17it/s]"
     ]
    },
    {
     "name": "stdout",
     "output_type": "stream",
     "text": [
      "advanced_sns_data: 1553577\n",
      "messenger_data: 3819\n",
      "online_conv_data: 71071\n"
     ]
    },
    {
     "name": "stderr",
     "output_type": "stream",
     "text": [
      "\n"
     ]
    }
   ],
   "source": [
    "advanced_sns_data, messenger_data, online_conv_data = [], [], []\n",
    "for f in tqdm(advanced_sns_files):\n",
    "    with open(f) as f:\n",
    "        advanced_sns_data.extend([json.loads(line) for line in f])\n",
    "\n",
    "for f in tqdm(messenger_files):\n",
    "    with open(f) as f:\n",
    "        messenger_data.extend([json.loads(line) for line in f])\n",
    "\n",
    "for f in tqdm(online_conv_files):\n",
    "    with open(f) as f:\n",
    "        online_conv_data.extend([json.loads(line) for line in f])\n",
    "\n",
    "print(f\"advanced_sns_data: {len(advanced_sns_data)}\")\n",
    "print(f\"messenger_data: {len(messenger_data)}\")\n",
    "print(f\"online_conv_data: {len(online_conv_data)}\")"
   ]
  },
  {
   "cell_type": "code",
   "execution_count": 4,
   "metadata": {},
   "outputs": [],
   "source": [
    "def calculate_time_diff(sessions: List[Dict[str, str]]) -> List[int]:\n",
    "    time_diff_list = []\n",
    "\n",
    "    for i in range(1, len(sessions)):\n",
    "        cur_datetime = datetime.strptime(sessions[i][\"datetime\"], \"%Y-%m-%d %H:%M\")\n",
    "        prev_datetime = datetime.strptime(sessions[i-1][\"datetime\"], \"%Y-%m-%d %H:%M\")\n",
    "\n",
    "        time_diff = cur_datetime - prev_datetime\n",
    "        diff_minutes = time_diff.total_seconds() / 60\n",
    "        time_diff_list.append(diff_minutes)\n",
    "\n",
    "    return time_diff_list"
   ]
  },
  {
   "cell_type": "code",
   "execution_count": 5,
   "metadata": {},
   "outputs": [],
   "source": [
    "def speaker_change_indices(sessions: List[Dict[str, str]]) -> List[int]:\n",
    "    indices = []\n",
    "\n",
    "    for i in range(1, len(sessions)):\n",
    "        if sessions[i][\"speaker\"] != sessions[i-1][\"speaker\"]:\n",
    "            indices.append(i)\n",
    "\n",
    "    return indices"
   ]
  },
  {
   "cell_type": "code",
   "execution_count": 6,
   "metadata": {},
   "outputs": [
    {
     "name": "stderr",
     "output_type": "stream",
     "text": [
      "100%|██████████| 1553577/1553577 [02:58<00:00, 8683.46it/s]\n",
      "100%|██████████| 3819/3819 [00:05<00:00, 762.56it/s] \n",
      "100%|██████████| 71071/71071 [00:13<00:00, 5219.30it/s]\n"
     ]
    }
   ],
   "source": [
    "time_diffs = []\n",
    "for d in tqdm(advanced_sns_data):\n",
    "    time_diffs.extend(calculate_time_diff(d[\"session\"]))\n",
    "\n",
    "for d in tqdm(messenger_data):\n",
    "    time_diffs.extend(calculate_time_diff(d[\"session\"]))\n",
    "\n",
    "for d in tqdm(online_conv_data):\n",
    "    time_diffs.extend(calculate_time_diff(d[\"session\"]))"
   ]
  },
  {
   "cell_type": "code",
   "execution_count": 17,
   "metadata": {},
   "outputs": [
    {
     "data": {
      "text/plain": [
       "25572523"
      ]
     },
     "execution_count": 17,
     "metadata": {},
     "output_type": "execute_result"
    }
   ],
   "source": [
    "len(time_diffs)"
   ]
  },
  {
   "cell_type": "code",
   "execution_count": 8,
   "metadata": {},
   "outputs": [
    {
     "name": "stdout",
     "output_type": "stream",
     "text": [
      "Stats\n",
      "Mean: 7.153827488981044\n",
      "Median: 0.0\n",
      "Max: 975890.0\n",
      "Min: 0.0\n",
      "Std: 477.9727889091414\n"
     ]
    }
   ],
   "source": [
    "print(\"Overall Stats\")\n",
    "print(f\"Mean: {np.mean(time_diffs)}\")\n",
    "print(f\"Median: {np.median(time_diffs)}\")\n",
    "print(f\"Max: {max(time_diffs)}\")\n",
    "print(f\"Min: {min(time_diffs)}\")\n",
    "print(f\"Std: {np.std(time_diffs)}\")"
   ]
  },
  {
   "cell_type": "code",
   "execution_count": 13,
   "metadata": {},
   "outputs": [
    {
     "name": "stdout",
     "output_type": "stream",
     "text": [
      "gt 0m (%): 27.092227075130598%\n",
      "geq 5m (%): 8.570026508530269%\n",
      "geq 10m (%): 5.891303724704833%\n",
      "geq 10m and leq 1440m (%): 5.853481879750387%\n"
     ]
    }
   ],
   "source": [
    "gt_0 = [t for t in time_diffs if t > 0]\n",
    "geq_5 = [t for t in time_diffs if t >= 5]\n",
    "geq_10 = [t for t in time_diffs if t >= 10]\n",
    "geq_10_leq_1440 = [t for t in time_diffs if t >= 10 and t <= 1440]\n",
    "print(f\"gt 0m (%): {len(gt_0) / len(time_diffs) * 100}%\")\n",
    "print(f\"geq 5m (%): {len(geq_5) / len(time_diffs) * 100}%\")\n",
    "print(f\"geq 10m (%): {len(geq_10) / len(time_diffs) * 100}%\")\n",
    "print(f\"geq 10m and leq 1440m (%): {len(geq_10_leq_1440) / len(time_diffs) * 100}%\")"
   ]
  },
  {
   "cell_type": "code",
   "execution_count": 19,
   "metadata": {},
   "outputs": [
    {
     "name": "stdout",
     "output_type": "stream",
     "text": [
      "10-1440 Stats\n",
      "Mean: 74.03052142351807\n",
      "Median: 28.0\n",
      "Max: 1440.0\n",
      "Min: 10.0\n",
      "Std: 147.1548678250028\n"
     ]
    }
   ],
   "source": [
    "print(\"10-1440 Stats\")\n",
    "print(f\"Mean: {np.mean(geq_10_leq_1440)}\")\n",
    "print(f\"Median: {np.median(geq_10_leq_1440)}\")\n",
    "print(f\"Max: {max(geq_10_leq_1440)}\")\n",
    "print(f\"Min: {min(geq_10_leq_1440)}\")\n",
    "print(f\"Std: {np.std(geq_10_leq_1440)}\")"
   ]
  },
  {
   "cell_type": "code",
   "execution_count": 24,
   "metadata": {},
   "outputs": [
    {
     "data": {
      "image/png": "[encoded data removed]",
      "text/plain": [
       "<Figure size 640x480 with 1 Axes>"
      ]
     },
     "metadata": {},
     "output_type": "display_data"
    }
   ],
   "source": [
    "plt.hist(geq_10_leq_1440, bins=np.logspace(np.log10(10), np.log10(np.max(geq_10_leq_1440))), color=\"blue\", alpha=0.7, edgecolor=\"black\")\n",
    "plt.xscale(\"log\")\n",
    "plt.title(\"Time difference (10m<=TD<=1D)\")\n",
    "plt.xlabel(\"minutes (log)\")\n",
    "plt.ylabel(\"Frequency\")\n",
    "plt.axvline(np.mean(geq_10_leq_1440), color=\"red\", linestyle=\"dashed\", linewidth=1)\n",
    "plt.axvline(np.median(geq_10_leq_1440), color=\"green\", linestyle=\"dashed\", linewidth=1)\n",
    "plt.show()"
   ]
  },
  {
   "cell_type": "code",
   "execution_count": null,
   "metadata": {},
   "outputs": [],
   "source": []
  }
 ],
 "metadata": {
  "kernelspec": {
   "display_name": "venv",
   "language": "python",
   "name": "python3"
  },
  "language_info": {
   "codemirror_mode": {
    "name": "ipython",
    "version": 3
   },
   "file_extension": ".py",
   "mimetype": "text/x-python",
   "name": "python",
   "nbconvert_exporter": "python",
   "pygments_lexer": "ipython3",
   "version": "3.10.12"
  }
 },
 "nbformat": 4,
 "nbformat_minor": 2
}
