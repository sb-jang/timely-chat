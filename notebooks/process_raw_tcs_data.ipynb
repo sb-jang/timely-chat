{
 "cells": [
  {
   "cell_type": "code",
   "execution_count": 2,
   "metadata": {},
   "outputs": [
    {
     "name": "stderr",
     "output_type": "stream",
     "text": [
      "/home/seongbo/timeliness-research/venv/lib/python3.10/site-packages/tqdm/auto.py:21: TqdmWarning: IProgress not found. Please update jupyter and ipywidgets. See https://ipywidgets.readthedocs.io/en/stable/user_install.html\n",
      "  from .autonotebook import tqdm as notebook_tqdm\n"
     ]
    }
   ],
   "source": [
    "import json\n",
    "import random\n",
    "import xml.etree.ElementTree as ET\n",
    "from datetime import datetime\n",
    "from glob import glob\n",
    "from typing import Dict, List\n",
    "\n",
    "import pandas as pd\n",
    "from datasets import load_dataset, concatenate_datasets\n",
    "from tqdm import tqdm"
   ]
  },
  {
   "cell_type": "markdown",
   "metadata": {},
   "source": [
    "## MC_TACO"
   ]
  },
  {
   "cell_type": "code",
   "execution_count": null,
   "metadata": {},
   "outputs": [],
   "source": [
    "data = load_dataset(\"mc_taco\")"
   ]
  },
  {
   "cell_type": "code",
   "execution_count": null,
   "metadata": {},
   "outputs": [],
   "source": [
    "data"
   ]
  },
  {
   "cell_type": "code",
   "execution_count": null,
   "metadata": {},
   "outputs": [],
   "source": [
    "all_instances = concatenate_datasets([data[\"validation\"], data[\"test\"]])\n",
    "print(len(all_instances))"
   ]
  },
  {
   "cell_type": "code",
   "execution_count": null,
   "metadata": {},
   "outputs": [],
   "source": [
    "all_instances[0]"
   ]
  },
  {
   "cell_type": "code",
   "execution_count": null,
   "metadata": {},
   "outputs": [],
   "source": [
    "from enum import Enum\n",
    "\n",
    "class Category(Enum):\n",
    "    EVENT_DURATION = 0\n",
    "    EVENT_ORDERING = 1\n",
    "    FREQUENCY = 2\n",
    "    TYPICAL_TIME = 3\n",
    "    STATIONARY = 4"
   ]
  },
  {
   "cell_type": "code",
   "execution_count": null,
   "metadata": {},
   "outputs": [],
   "source": [
    "df = pd.DataFrame(all_instances)"
   ]
  },
  {
   "cell_type": "code",
   "execution_count": null,
   "metadata": {},
   "outputs": [],
   "source": [
    "df.head()"
   ]
  },
  {
   "cell_type": "code",
   "execution_count": null,
   "metadata": {},
   "outputs": [],
   "source": [
    "# Merge df by columns=[\"sentence\", \"question\", \"category\"]\n",
    "merged = df.groupby([\"sentence\", \"question\", \"category\"]).agg({\"answer\": \"\\n\".join, \"label\": lambda x: \"\\n\".join([str(i) for i in x])}).reset_index()"
   ]
  },
  {
   "cell_type": "code",
   "execution_count": null,
   "metadata": {},
   "outputs": [],
   "source": [
    "merged.head()"
   ]
  },
  {
   "cell_type": "markdown",
   "metadata": {},
   "source": [
    "### Filter MC_TACO"
   ]
  },
  {
   "cell_type": "code",
   "execution_count": null,
   "metadata": {},
   "outputs": [],
   "source": [
    "df = pd.read_csv(\"../sampled_data/event_duration.csv\")"
   ]
  },
  {
   "cell_type": "code",
   "execution_count": null,
   "metadata": {},
   "outputs": [],
   "source": [
    "df.head()"
   ]
  },
  {
   "cell_type": "code",
   "execution_count": null,
   "metadata": {},
   "outputs": [],
   "source": [
    "filtered = df[(df[\"remark\"] == True) & (df[\"exists_ans\"] == \"Y\")]"
   ]
  },
  {
   "cell_type": "code",
   "execution_count": null,
   "metadata": {},
   "outputs": [],
   "source": [
    "print(len(filtered))\n",
    "filtered.head()"
   ]
  },
  {
   "cell_type": "code",
   "execution_count": null,
   "metadata": {},
   "outputs": [],
   "source": [
    "dics = []\n",
    "for row in filtered.itertuples():\n",
    "    answers = row.answer.split(\"\\n\")\n",
    "    labels = row.label.split(\"\\n\")\n",
    "    for ans, label in zip(answers, labels):\n",
    "        if label == \"0\":\n",
    "            continue\n",
    "        dic = {\n",
    "            \"narrative\": row.sentence.strip(),\n",
    "            \"question\": row.question.strip(),\n",
    "            \"answer\": ans.strip()\n",
    "        }\n",
    "        dics.append(dic)"
   ]
  },
  {
   "cell_type": "code",
   "execution_count": null,
   "metadata": {},
   "outputs": [],
   "source": [
    "print(len(dics))"
   ]
  },
  {
   "cell_type": "code",
   "execution_count": null,
   "metadata": {},
   "outputs": [],
   "source": [
    "with open(\"../resources/mc_taco_narratives.jsonl\", \"w\") as f:\n",
    "    for dic in dics:\n",
    "        f.write(json.dumps(dic) + \"\\n\")"
   ]
  },
  {
   "cell_type": "markdown",
   "metadata": {},
   "source": [
    "### Postprocess GPT-3.5-generated Dialogues"
   ]
  },
  {
   "cell_type": "code",
   "execution_count": 3,
   "metadata": {},
   "outputs": [],
   "source": [
    "with open(\"../results/gpt-4-turbo-preview_mc_taco_1shot.jsonl\") as f:\n",
    "    data = [json.loads(line) for line in f]"
   ]
  },
  {
   "cell_type": "code",
   "execution_count": 4,
   "metadata": {},
   "outputs": [],
   "source": [
    "user_prompts = [d[\"user_prompt\"] for d in data]\n",
    "outputs = [d[\"generated\"] for d in data]\n",
    "\n",
    "df = pd.DataFrame({\"user_prompt\": user_prompts, \"generated\": outputs})"
   ]
  },
  {
   "cell_type": "code",
   "execution_count": 5,
   "metadata": {},
   "outputs": [
    {
     "data": {
      "text/html": [
       "<div>\n",
       "<style scoped>\n",
       "    .dataframe tbody tr th:only-of-type {\n",
       "        vertical-align: middle;\n",
       "    }\n",
       "\n",
       "    .dataframe tbody tr th {\n",
       "        vertical-align: top;\n",
       "    }\n",
       "\n",
       "    .dataframe thead th {\n",
       "        text-align: right;\n",
       "    }\n",
       "</style>\n",
       "<table border=\"1\" class=\"dataframe\">\n",
       "  <thead>\n",
       "    <tr style=\"text-align: right;\">\n",
       "      <th></th>\n",
       "      <th>user_prompt</th>\n",
       "      <th>generated</th>\n",
       "    </tr>\n",
       "  </thead>\n",
       "  <tbody>\n",
       "    <tr>\n",
       "      <th>0</th>\n",
       "      <td>Narrative: , followed by other ports at Hyères...</td>\n",
       "      <td>A1: I was at the ports for four hours.\\n\\nA2:\\...</td>\n",
       "    </tr>\n",
       "    <tr>\n",
       "      <th>1</th>\n",
       "      <td>Narrative: After dinner, he went to look for M...</td>\n",
       "      <td>A1: He spent 20 minutes having dinner.\\n\\nA2:\\...</td>\n",
       "    </tr>\n",
       "    <tr>\n",
       "      <th>2</th>\n",
       "      <td>Narrative: After dinner, he went to look for M...</td>\n",
       "      <td>A1: He spent 10 minutes having dinner.\\n\\nA2:\\...</td>\n",
       "    </tr>\n",
       "    <tr>\n",
       "      <th>3</th>\n",
       "      <td>Narrative: After dinner, he went to look for M...</td>\n",
       "      <td>A1: He spent 15 minutes having dinner.\\n\\nA2:\\...</td>\n",
       "    </tr>\n",
       "    <tr>\n",
       "      <th>4</th>\n",
       "      <td>Narrative: After dinner, he went to look for M...</td>\n",
       "      <td>A1: He spent 30 minutes having dinner.\\n\\nA2:\\...</td>\n",
       "    </tr>\n",
       "  </tbody>\n",
       "</table>\n",
       "</div>"
      ],
      "text/plain": [
       "                                         user_prompt  \\\n",
       "0  Narrative: , followed by other ports at Hyères...   \n",
       "1  Narrative: After dinner, he went to look for M...   \n",
       "2  Narrative: After dinner, he went to look for M...   \n",
       "3  Narrative: After dinner, he went to look for M...   \n",
       "4  Narrative: After dinner, he went to look for M...   \n",
       "\n",
       "                                           generated  \n",
       "0  A1: I was at the ports for four hours.\\n\\nA2:\\...  \n",
       "1  A1: He spent 20 minutes having dinner.\\n\\nA2:\\...  \n",
       "2  A1: He spent 10 minutes having dinner.\\n\\nA2:\\...  \n",
       "3  A1: He spent 15 minutes having dinner.\\n\\nA2:\\...  \n",
       "4  A1: He spent 30 minutes having dinner.\\n\\nA2:\\...  "
      ]
     },
     "execution_count": 5,
     "metadata": {},
     "output_type": "execute_result"
    }
   ],
   "source": [
    "df.head()"
   ]
  },
  {
   "cell_type": "code",
   "execution_count": 6,
   "metadata": {},
   "outputs": [],
   "source": [
    "df.to_csv(\"../results/gpt-4-turbo-preview_mc_taco_1shot.csv\", index=False)"
   ]
  },
  {
   "cell_type": "markdown",
   "metadata": {},
   "source": [
    "## Multi-Session Chat (MSC)"
   ]
  },
  {
   "cell_type": "code",
   "execution_count": null,
   "metadata": {},
   "outputs": [],
   "source": [
    "data = load_dataset(\"gonced8/multi-session_chat\")"
   ]
  },
  {
   "cell_type": "code",
   "execution_count": null,
   "metadata": {},
   "outputs": [],
   "source": [
    "data"
   ]
  },
  {
   "cell_type": "code",
   "execution_count": null,
   "metadata": {},
   "outputs": [],
   "source": [
    "all_instances = concatenate_datasets([data[\"train\"], data[\"validation\"], data[\"test\"]])\n",
    "print(len(all_instances))"
   ]
  },
  {
   "cell_type": "code",
   "execution_count": null,
   "metadata": {},
   "outputs": [],
   "source": [
    "all_instances[0]"
   ]
  },
  {
   "cell_type": "code",
   "execution_count": null,
   "metadata": {},
   "outputs": [],
   "source": [
    "length = [len(i[\"sessions\"]) for i in all_instances]\n",
    "print(f\"max length: {max(length)}\")\n",
    "print(f\"min length: {min(length)}\")\n",
    "print(f\"mean length: {sum(length) / len(length)}\")"
   ]
  },
  {
   "cell_type": "code",
   "execution_count": null,
   "metadata": {},
   "outputs": [],
   "source": [
    "rows = []\n",
    "for instance in all_instances:\n",
    "    dic = defaultdict(str)\n",
    "    for i, sess in enumerate(instance[\"sessions\"]):\n",
    "        time_elapsed = sess[\"time_elapsed\"]\n",
    "        # Filter multi-day sessions\n",
    "        if \"day\" in time_elapsed:\n",
    "            continue\n",
    "\n",
    "        session = f\"[ {time_elapsed} later ]\\n\"\n",
    "        for turn in sess[\"dialogue\"]:\n",
    "            session += f\"{turn['speaker']}: {turn['text'].strip()}\\n\"\n",
    "\n",
    "        dic[f\"session_{i}\"] = session\n",
    "    rows.append(dic)"
   ]
  },
  {
   "cell_type": "code",
   "execution_count": null,
   "metadata": {},
   "outputs": [],
   "source": [
    "len(rows)"
   ]
  },
  {
   "cell_type": "code",
   "execution_count": null,
   "metadata": {},
   "outputs": [],
   "source": [
    "df = pd.DataFrame(rows)"
   ]
  },
  {
   "cell_type": "code",
   "execution_count": null,
   "metadata": {},
   "outputs": [],
   "source": [
    "df.head()"
   ]
  },
  {
   "cell_type": "code",
   "execution_count": null,
   "metadata": {},
   "outputs": [],
   "source": [
    "df.to_csv(\"../sampled_data/multi-session-chat.csv\", index=False)"
   ]
  },
  {
   "cell_type": "markdown",
   "metadata": {},
   "source": [
    "## Korean Corpus"
   ]
  },
  {
   "cell_type": "code",
   "execution_count": 2,
   "metadata": {},
   "outputs": [
    {
     "name": "stdout",
     "output_type": "stream",
     "text": [
      "advanced_sns_files: 1554\n",
      "messenger_files: 4\n",
      "online_conv_files: 72\n"
     ]
    }
   ],
   "source": [
    "advanced_sns_files = glob(\"korean_corpus/advanced_social_network/*.jsonl\")\n",
    "messenger_files = glob(\"korean_corpus/messenger/*.jsonl\")\n",
    "online_conv_files = glob(\"korean_corpus/onlineConversation/*.jsonl\")\n",
    "print(f\"advanced_sns_files: {len(advanced_sns_files)}\")\n",
    "print(f\"messenger_files: {len(messenger_files)}\")\n",
    "print(f\"online_conv_files: {len(online_conv_files)}\")"
   ]
  },
  {
   "cell_type": "code",
   "execution_count": 3,
   "metadata": {},
   "outputs": [
    {
     "name": "stdout",
     "output_type": "stream",
     "text": [
      "advanced_sns_data: 1553577\n",
      "messenger_data: 3819\n",
      "online_conv_data: 71071\n"
     ]
    }
   ],
   "source": [
    "advanced_sns_data, messenger_data, online_conv_data = [], [], []\n",
    "for f in tqdm(advanced_sns_files):\n",
    "    with open(f) as f:\n",
    "        advanced_sns_data.extend([json.loads(line) for line in f])\n",
    "\n",
    "for f in tqdm(messenger_files):\n",
    "    with open(f) as f:\n",
    "        messenger_data.extend([json.loads(line) for line in f])\n",
    "\n",
    "for f in tqdm(online_conv_files):\n",
    "    with open(f) as f:\n",
    "        online_conv_data.extend([json.loads(line) for line in f])\n",
    "\n",
    "print(f\"advanced_sns_data: {len(advanced_sns_data)}\")\n",
    "print(f\"messenger_data: {len(messenger_data)}\")\n",
    "print(f\"online_conv_data: {len(online_conv_data)}\")"
   ]
  },
  {
   "cell_type": "code",
   "execution_count": 18,
   "metadata": {},
   "outputs": [],
   "source": [
    "def calculate_time_diff(sessions: List[Dict[str, str]]) -> List[int]:\n",
    "    time_diff_list = []\n",
    "\n",
    "    for i in range(1, len(sessions)):\n",
    "        cur_datetime = datetime.strptime(sessions[i][\"datetime\"], \"%Y-%m-%d %H:%M\")\n",
    "        prev_datetime = datetime.strptime(sessions[i-1][\"datetime\"], \"%Y-%m-%d %H:%M\")\n",
    "\n",
    "        time_diff = cur_datetime - prev_datetime\n",
    "        diff_minutes = time_diff.total_seconds() / 60\n",
    "        time_diff_list.append(diff_minutes)\n",
    "\n",
    "    return time_diff_list"
   ]
  },
  {
   "cell_type": "code",
   "execution_count": 40,
   "metadata": {},
   "outputs": [],
   "source": [
    "def speaker_change_indices(sessions: List[Dict[str, str]]) -> List[int]:\n",
    "    indices = []\n",
    "\n",
    "    for i in range(1, len(sessions)):\n",
    "        if sessions[i][\"speaker\"] != sessions[i-1][\"speaker\"]:\n",
    "            indices.append(i)\n",
    "\n",
    "    return indices"
   ]
  },
  {
   "cell_type": "code",
   "execution_count": 26,
   "metadata": {},
   "outputs": [
    {
     "name": "stderr",
     "output_type": "stream",
     "text": [
      "100%|██████████| 1553577/1553577 [02:34<00:00, 10040.73it/s]\n",
      "100%|██████████| 3819/3819 [00:04<00:00, 899.06it/s] \n",
      "100%|██████████| 71071/71071 [00:11<00:00, 6128.61it/s]"
     ]
    },
    {
     "name": "stdout",
     "output_type": "stream",
     "text": [
      "advanced_sns_delta_sessions: 592748\n",
      "messenger_delta_sessions: 1741\n",
      "online_conv_delta_sessions: 28832\n"
     ]
    },
    {
     "name": "stderr",
     "output_type": "stream",
     "text": [
      "\n"
     ]
    }
   ],
   "source": [
    "advanced_sns_delta_sessions, messenger_delta_sessions, online_conv_delta_sessions = [], [], []\n",
    "for d in tqdm(advanced_sns_data):\n",
    "    time_diffs = calculate_time_diff(d[\"session\"])\n",
    "    if any(10 <= diff <= 1440 for diff in time_diffs):\n",
    "        advanced_sns_delta_sessions.append(d)\n",
    "\n",
    "for d in tqdm(messenger_data):\n",
    "    time_diffs = calculate_time_diff(d[\"session\"])\n",
    "    if any(10 <= diff <= 1440 for diff in time_diffs):\n",
    "        messenger_delta_sessions.append(d)\n",
    "\n",
    "for d in tqdm(online_conv_data):\n",
    "    time_diffs = calculate_time_diff(d[\"session\"])\n",
    "    if any(10 <= diff <= 1440 for diff in time_diffs):\n",
    "        online_conv_delta_sessions.append(d)\n",
    "\n",
    "print(f\"advanced_sns_delta_sessions: {len(advanced_sns_delta_sessions)}\")\n",
    "print(f\"messenger_delta_sessions: {len(messenger_delta_sessions)}\")\n",
    "print(f\"online_conv_delta_sessions: {len(online_conv_delta_sessions)}\")"
   ]
  },
  {
   "cell_type": "code",
   "execution_count": 43,
   "metadata": {},
   "outputs": [
    {
     "name": "stderr",
     "output_type": "stream",
     "text": [
      "  0%|          | 0/592748 [00:00<?, ?it/s]"
     ]
    },
    {
     "name": "stderr",
     "output_type": "stream",
     "text": [
      "100%|██████████| 592748/592748 [00:08<00:00, 69734.62it/s]\n",
      "100%|██████████| 1741/1741 [00:00<00:00, 2280.33it/s]\n",
      "100%|██████████| 28832/28832 [00:00<00:00, 34550.65it/s]\n"
     ]
    }
   ],
   "source": [
    "processed_advanced_sns_data, processed_messenger_data, processed_online_conv_data = {\"sessions\": []}, {\"sessions\": []}, {\"sessions\": []}\n",
    "for d in tqdm(advanced_sns_delta_sessions):\n",
    "    dialog_str = \"\"\n",
    "    indices = speaker_change_indices(d[\"session\"])\n",
    "    if len(indices) == 0:\n",
    "        continue\n",
    "    \n",
    "    # First speaker\n",
    "    hour_minute_str = d[\"session\"][indices[0]-1][\"datetime\"].split(\" \")[1]\n",
    "    concatenated_utterance = \" \".join([d[\"session\"][i][\"utterance\"] for i in range(indices[0])])\n",
    "    speaker = d[\"session\"][indices[0]-1][\"speaker\"]\n",
    "    dialog_str += f\"[{hour_minute_str}] {speaker}: {concatenated_utterance}\\n\"\n",
    "    # Intermediate alternating speakers\n",
    "    for i in range(len(indices)-1):\n",
    "        hour_minute_str = d[\"session\"][indices[i+1]-1][\"datetime\"].split(\" \")[1]\n",
    "        concatenated_utterance = \" \".join([d[\"session\"][i][\"utterance\"] for i in range(indices[i], indices[i+1])])\n",
    "        speaker = d[\"session\"][indices[i+1]-1][\"speaker\"]\n",
    "        dialog_str += f\"[{hour_minute_str}] {speaker}: {concatenated_utterance}\\n\"\n",
    "    # Last speaker\n",
    "    hour_minute_str = d[\"session\"][-1][\"datetime\"].split(\" \")[1]\n",
    "    concatenated_utterance = \" \".join([d[\"session\"][i][\"utterance\"] for i in range(indices[-1], len(d[\"session\"]))])\n",
    "    speaker = d[\"session\"][-1][\"speaker\"]\n",
    "    dialog_str += f\"[{hour_minute_str}] {speaker}: {concatenated_utterance}\"\n",
    "\n",
    "    processed_advanced_sns_data[\"sessions\"].append(dialog_str)\n",
    "\n",
    "for d in tqdm(messenger_delta_sessions):\n",
    "    dialog_str = \"\"\n",
    "    indices = speaker_change_indices(d[\"session\"])\n",
    "    if len(indices) == 0:\n",
    "        continue\n",
    "    \n",
    "    # First speaker\n",
    "    hour_minute_str = d[\"session\"][indices[0]-1][\"datetime\"].split(\" \")[1]\n",
    "    concatenated_utterance = \" \".join([d[\"session\"][i][\"utterance\"] for i in range(indices[0])])\n",
    "    speaker = d[\"session\"][indices[0]-1][\"speaker\"]\n",
    "    dialog_str += f\"[{hour_minute_str}] {speaker}: {concatenated_utterance}\\n\"\n",
    "    # Intermediate alternating speakers\n",
    "    for i in range(len(indices)-1):\n",
    "        hour_minute_str = d[\"session\"][indices[i+1]-1][\"datetime\"].split(\" \")[1]\n",
    "        concatenated_utterance = \" \".join([d[\"session\"][i][\"utterance\"] for i in range(indices[i], indices[i+1])])\n",
    "        speaker = d[\"session\"][indices[i+1]-1][\"speaker\"]\n",
    "        dialog_str += f\"[{hour_minute_str}] {speaker}: {concatenated_utterance}\\n\"\n",
    "    # Last speaker\n",
    "    hour_minute_str = d[\"session\"][-1][\"datetime\"].split(\" \")[1]\n",
    "    concatenated_utterance = \" \".join([d[\"session\"][i][\"utterance\"] for i in range(indices[-1], len(d[\"session\"]))])\n",
    "    speaker = d[\"session\"][-1][\"speaker\"]\n",
    "    dialog_str += f\"[{hour_minute_str}] {speaker}: {concatenated_utterance}\"\n",
    "\n",
    "    processed_messenger_data[\"sessions\"].append(dialog_str)\n",
    "\n",
    "for d in tqdm(online_conv_delta_sessions):\n",
    "    dialog_str = \"\"\n",
    "    indices = speaker_change_indices(d[\"session\"])\n",
    "    if len(indices) == 0:\n",
    "        continue\n",
    "    \n",
    "    # First speaker\n",
    "    hour_minute_str = d[\"session\"][indices[0]-1][\"datetime\"].split(\" \")[1]\n",
    "    concatenated_utterance = \" \".join([d[\"session\"][i][\"utterance\"] for i in range(indices[0])])\n",
    "    speaker = d[\"session\"][indices[0]-1][\"speaker\"]\n",
    "    dialog_str += f\"[{hour_minute_str}] {speaker}: {concatenated_utterance}\\n\"\n",
    "    # Intermediate alternating speakers\n",
    "    for i in range(len(indices)-1):\n",
    "        hour_minute_str = d[\"session\"][indices[i+1]-1][\"datetime\"].split(\" \")[1]\n",
    "        concatenated_utterance = \" \".join([d[\"session\"][i][\"utterance\"] for i in range(indices[i], indices[i+1])])\n",
    "        speaker = d[\"session\"][indices[i+1]-1][\"speaker\"]\n",
    "        dialog_str += f\"[{hour_minute_str}] {speaker}: {concatenated_utterance}\\n\"\n",
    "    # Last speaker\n",
    "    hour_minute_str = d[\"session\"][-1][\"datetime\"].split(\" \")[1]\n",
    "    concatenated_utterance = \" \".join([d[\"session\"][i][\"utterance\"] for i in range(indices[-1], len(d[\"session\"]))])\n",
    "    speaker = d[\"session\"][-1][\"speaker\"]\n",
    "    dialog_str += f\"[{hour_minute_str}] {speaker}: {concatenated_utterance}\"\n",
    "\n",
    "    processed_online_conv_data[\"sessions\"].append(dialog_str)\n",
    "\n",
    "sampled_advanced_sns = pd.DataFrame(processed_advanced_sns_data).sample(300)\n",
    "sampled_messenger = pd.DataFrame(processed_messenger_data).sample(300)\n",
    "sampled_online_conv = pd.DataFrame(processed_online_conv_data).sample(300)"
   ]
  },
  {
   "cell_type": "code",
   "execution_count": 44,
   "metadata": {},
   "outputs": [],
   "source": [
    "sampled_advanced_sns.to_csv(\"../sampled_data/advanced_sns.csv\", index=False)\n",
    "sampled_messenger.to_csv(\"../sampled_data/messenger.csv\", index=False)\n",
    "sampled_online_conv.to_csv(\"../sampled_data/online_conv.csv\", index=False)"
   ]
  },
  {
   "cell_type": "markdown",
   "metadata": {},
   "source": [
    "## CoTAK"
   ]
  },
  {
   "cell_type": "code",
   "execution_count": 21,
   "metadata": {},
   "outputs": [],
   "source": [
    "cotak_finegrained = pd.read_csv(\"../raw_data/cotak/data/finegrained/csv/minutes_clustered.csv\")\n",
    "cotak_coarsegrained = pd.read_csv(\"../raw_data/cotak/data/coarsegrained/csv/perform_high_confidence.csv\")"
   ]
  },
  {
   "cell_type": "code",
   "execution_count": 22,
   "metadata": {},
   "outputs": [
    {
     "data": {
      "text/html": [
       "<div>\n",
       "<style scoped>\n",
       "    .dataframe tbody tr th:only-of-type {\n",
       "        vertical-align: middle;\n",
       "    }\n",
       "\n",
       "    .dataframe tbody tr th {\n",
       "        vertical-align: top;\n",
       "    }\n",
       "\n",
       "    .dataframe thead th {\n",
       "        text-align: right;\n",
       "    }\n",
       "</style>\n",
       "<table border=\"1\" class=\"dataframe\">\n",
       "  <thead>\n",
       "    <tr style=\"text-align: right;\">\n",
       "      <th></th>\n",
       "      <th>title</th>\n",
       "      <th>action</th>\n",
       "      <th>minutes</th>\n",
       "    </tr>\n",
       "  </thead>\n",
       "  <tbody>\n",
       "    <tr>\n",
       "      <th>0</th>\n",
       "      <td>How to Clean Windows</td>\n",
       "      <td>Remove stickers and decals</td>\n",
       "      <td>21-30mins</td>\n",
       "    </tr>\n",
       "    <tr>\n",
       "      <th>1</th>\n",
       "      <td>How to Clean Windows</td>\n",
       "      <td>Remove and clean the screens</td>\n",
       "      <td>1-10mins</td>\n",
       "    </tr>\n",
       "    <tr>\n",
       "      <th>2</th>\n",
       "      <td>How to Develop a Strong High Singing Voice</td>\n",
       "      <td>Breathe from your diaphragm</td>\n",
       "      <td>11-20mins</td>\n",
       "    </tr>\n",
       "    <tr>\n",
       "      <th>3</th>\n",
       "      <td>How to Develop a Strong High Singing Voice</td>\n",
       "      <td>Train your body to hit the high notes</td>\n",
       "      <td>11-20mins</td>\n",
       "    </tr>\n",
       "    <tr>\n",
       "      <th>4</th>\n",
       "      <td>How to Develop a Strong High Singing Voice</td>\n",
       "      <td>Always remember to not strain your voice</td>\n",
       "      <td>1-10mins</td>\n",
       "    </tr>\n",
       "  </tbody>\n",
       "</table>\n",
       "</div>"
      ],
      "text/plain": [
       "                                        title  \\\n",
       "0                        How to Clean Windows   \n",
       "1                        How to Clean Windows   \n",
       "2  How to Develop a Strong High Singing Voice   \n",
       "3  How to Develop a Strong High Singing Voice   \n",
       "4  How to Develop a Strong High Singing Voice   \n",
       "\n",
       "                                     action    minutes  \n",
       "0                Remove stickers and decals  21-30mins  \n",
       "1              Remove and clean the screens   1-10mins  \n",
       "2               Breathe from your diaphragm  11-20mins  \n",
       "3     Train your body to hit the high notes  11-20mins  \n",
       "4  Always remember to not strain your voice   1-10mins  "
      ]
     },
     "execution_count": 22,
     "metadata": {},
     "output_type": "execute_result"
    }
   ],
   "source": [
    "cotak_finegrained.head()"
   ]
  },
  {
   "cell_type": "code",
   "execution_count": 30,
   "metadata": {},
   "outputs": [
    {
     "data": {
      "text/html": [
       "<div>\n",
       "<style scoped>\n",
       "    .dataframe tbody tr th:only-of-type {\n",
       "        vertical-align: middle;\n",
       "    }\n",
       "\n",
       "    .dataframe tbody tr th {\n",
       "        vertical-align: top;\n",
       "    }\n",
       "\n",
       "    .dataframe thead th {\n",
       "        text-align: right;\n",
       "    }\n",
       "</style>\n",
       "<table border=\"1\" class=\"dataframe\">\n",
       "  <thead>\n",
       "    <tr style=\"text-align: right;\">\n",
       "      <th></th>\n",
       "      <th>title</th>\n",
       "      <th>action</th>\n",
       "      <th>label</th>\n",
       "    </tr>\n",
       "  </thead>\n",
       "  <tbody>\n",
       "    <tr>\n",
       "      <th>0</th>\n",
       "      <td>How to Plan for Common Labor Complications</td>\n",
       "      <td>Choose your support person.</td>\n",
       "      <td>minutes</td>\n",
       "    </tr>\n",
       "    <tr>\n",
       "      <th>1</th>\n",
       "      <td>How to Plan for Common Labor Complications</td>\n",
       "      <td>Create a strategy for pain relief.</td>\n",
       "      <td>minutes</td>\n",
       "    </tr>\n",
       "    <tr>\n",
       "      <th>2</th>\n",
       "      <td>How to Plan for Common Labor Complications</td>\n",
       "      <td>Be realistic about your birth plan.</td>\n",
       "      <td>hours</td>\n",
       "    </tr>\n",
       "    <tr>\n",
       "      <th>3</th>\n",
       "      <td>How to Drive Someone in Labor to the Hospital</td>\n",
       "      <td>Make the woman comfortable.</td>\n",
       "      <td>minutes</td>\n",
       "    </tr>\n",
       "    <tr>\n",
       "      <th>4</th>\n",
       "      <td>How to Drive Someone in Labor to the Hospital</td>\n",
       "      <td>Protect the car from messes.</td>\n",
       "      <td>minutes</td>\n",
       "    </tr>\n",
       "  </tbody>\n",
       "</table>\n",
       "</div>"
      ],
      "text/plain": [
       "                                           title  \\\n",
       "0     How to Plan for Common Labor Complications   \n",
       "1     How to Plan for Common Labor Complications   \n",
       "2     How to Plan for Common Labor Complications   \n",
       "3  How to Drive Someone in Labor to the Hospital   \n",
       "4  How to Drive Someone in Labor to the Hospital   \n",
       "\n",
       "                                action    label  \n",
       "0          Choose your support person.  minutes  \n",
       "1   Create a strategy for pain relief.  minutes  \n",
       "2  Be realistic about your birth plan.    hours  \n",
       "3          Make the woman comfortable.  minutes  \n",
       "4         Protect the car from messes.  minutes  "
      ]
     },
     "execution_count": 30,
     "metadata": {},
     "output_type": "execute_result"
    }
   ],
   "source": [
    "cotak_coarsegrained.head()"
   ]
  },
  {
   "cell_type": "code",
   "execution_count": 25,
   "metadata": {},
   "outputs": [
    {
     "name": "stdout",
     "output_type": "stream",
     "text": [
      "2528\n"
     ]
    }
   ],
   "source": [
    "grouped_finegrained = cotak_finegrained.groupby(\"title\").agg({\"action\": list, \"minutes\": list}).reset_index()\n",
    "print(len(grouped_finegrained))"
   ]
  },
  {
   "cell_type": "code",
   "execution_count": 32,
   "metadata": {},
   "outputs": [
    {
     "name": "stdout",
     "output_type": "stream",
     "text": [
      "10593\n"
     ]
    }
   ],
   "source": [
    "grouped_coarsegrained = cotak_coarsegrained.groupby(\"title\").agg({\"action\": list, \"label\": list}).reset_index()\n",
    "print(len(grouped_coarsegrained))"
   ]
  },
  {
   "cell_type": "code",
   "execution_count": 26,
   "metadata": {},
   "outputs": [
    {
     "data": {
      "text/html": [
       "<div>\n",
       "<style scoped>\n",
       "    .dataframe tbody tr th:only-of-type {\n",
       "        vertical-align: middle;\n",
       "    }\n",
       "\n",
       "    .dataframe tbody tr th {\n",
       "        vertical-align: top;\n",
       "    }\n",
       "\n",
       "    .dataframe thead th {\n",
       "        text-align: right;\n",
       "    }\n",
       "</style>\n",
       "<table border=\"1\" class=\"dataframe\">\n",
       "  <thead>\n",
       "    <tr style=\"text-align: right;\">\n",
       "      <th></th>\n",
       "      <th>title</th>\n",
       "      <th>action</th>\n",
       "      <th>minutes</th>\n",
       "    </tr>\n",
       "  </thead>\n",
       "  <tbody>\n",
       "    <tr>\n",
       "      <th>0</th>\n",
       "      <td>How to Accentuate Wavy Hair</td>\n",
       "      <td>[Condition your hair]</td>\n",
       "      <td>[11-20mins]</td>\n",
       "    </tr>\n",
       "    <tr>\n",
       "      <th>1</th>\n",
       "      <td>How to Accept Having a Large Bust</td>\n",
       "      <td>[Wear clothes that fit, Minimize your chest by...</td>\n",
       "      <td>[1-10mins, 1-10mins, 21-30mins, 1-10mins, 1-10...</td>\n",
       "    </tr>\n",
       "    <tr>\n",
       "      <th>2</th>\n",
       "      <td>How to Accept Visa Payments</td>\n",
       "      <td>[Find an acquirer, Compare rates.Research auth...</td>\n",
       "      <td>[21-30mins, 11-20mins, 11-20mins, 1-10mins, 1-...</td>\n",
       "    </tr>\n",
       "    <tr>\n",
       "      <th>3</th>\n",
       "      <td>How to Accept Your Boyfriend's Interest in Por...</td>\n",
       "      <td>[Talk to your boyfriend about it, Define what ...</td>\n",
       "      <td>[31-40mins, 11-20mins, 11-20mins, 11-20mins, 1...</td>\n",
       "    </tr>\n",
       "    <tr>\n",
       "      <th>4</th>\n",
       "      <td>How to Accompany a Learner Driver (UK)</td>\n",
       "      <td>[Make sure all instructions are clear and prec...</td>\n",
       "      <td>[11-20mins]</td>\n",
       "    </tr>\n",
       "  </tbody>\n",
       "</table>\n",
       "</div>"
      ],
      "text/plain": [
       "                                               title  \\\n",
       "0                        How to Accentuate Wavy Hair   \n",
       "1                  How to Accept Having a Large Bust   \n",
       "2                        How to Accept Visa Payments   \n",
       "3  How to Accept Your Boyfriend's Interest in Por...   \n",
       "4             How to Accompany a Learner Driver (UK)   \n",
       "\n",
       "                                              action  \\\n",
       "0                              [Condition your hair]   \n",
       "1  [Wear clothes that fit, Minimize your chest by...   \n",
       "2  [Find an acquirer, Compare rates.Research auth...   \n",
       "3  [Talk to your boyfriend about it, Define what ...   \n",
       "4  [Make sure all instructions are clear and prec...   \n",
       "\n",
       "                                             minutes  \n",
       "0                                        [11-20mins]  \n",
       "1  [1-10mins, 1-10mins, 21-30mins, 1-10mins, 1-10...  \n",
       "2  [21-30mins, 11-20mins, 11-20mins, 1-10mins, 1-...  \n",
       "3  [31-40mins, 11-20mins, 11-20mins, 11-20mins, 1...  \n",
       "4                                        [11-20mins]  "
      ]
     },
     "execution_count": 26,
     "metadata": {},
     "output_type": "execute_result"
    }
   ],
   "source": [
    "grouped_finegrained.head()"
   ]
  },
  {
   "cell_type": "code",
   "execution_count": 33,
   "metadata": {},
   "outputs": [
    {
     "data": {
      "text/html": [
       "<div>\n",
       "<style scoped>\n",
       "    .dataframe tbody tr th:only-of-type {\n",
       "        vertical-align: middle;\n",
       "    }\n",
       "\n",
       "    .dataframe tbody tr th {\n",
       "        vertical-align: top;\n",
       "    }\n",
       "\n",
       "    .dataframe thead th {\n",
       "        text-align: right;\n",
       "    }\n",
       "</style>\n",
       "<table border=\"1\" class=\"dataframe\">\n",
       "  <thead>\n",
       "    <tr style=\"text-align: right;\">\n",
       "      <th></th>\n",
       "      <th>title</th>\n",
       "      <th>action</th>\n",
       "      <th>label</th>\n",
       "    </tr>\n",
       "  </thead>\n",
       "  <tbody>\n",
       "    <tr>\n",
       "      <th>0</th>\n",
       "      <td>How to 180 on a Scooter</td>\n",
       "      <td>[Find a barrier that's about mid shin level.]</td>\n",
       "      <td>[days]</td>\n",
       "    </tr>\n",
       "    <tr>\n",
       "      <th>1</th>\n",
       "      <td>How to 360 in Modern Warfare</td>\n",
       "      <td>[Set your sensitivity to 6 or above., Catch th...</td>\n",
       "      <td>[hours, hours]</td>\n",
       "    </tr>\n",
       "    <tr>\n",
       "      <th>2</th>\n",
       "      <td>How to 90 Degree Park Large SUVs</td>\n",
       "      <td>[Put your car in reverse and slowly move backw...</td>\n",
       "      <td>[days]</td>\n",
       "    </tr>\n",
       "    <tr>\n",
       "      <th>3</th>\n",
       "      <td>How to Absorb What You Read</td>\n",
       "      <td>[Make notes in a notebook if you can't mark up...</td>\n",
       "      <td>[minutes]</td>\n",
       "    </tr>\n",
       "    <tr>\n",
       "      <th>4</th>\n",
       "      <td>How to Accent Home Decor with Terra Cotta</td>\n",
       "      <td>[Try a Mediterranean touch.]</td>\n",
       "      <td>[hours]</td>\n",
       "    </tr>\n",
       "  </tbody>\n",
       "</table>\n",
       "</div>"
      ],
      "text/plain": [
       "                                       title  \\\n",
       "0                    How to 180 on a Scooter   \n",
       "1               How to 360 in Modern Warfare   \n",
       "2           How to 90 Degree Park Large SUVs   \n",
       "3                How to Absorb What You Read   \n",
       "4  How to Accent Home Decor with Terra Cotta   \n",
       "\n",
       "                                              action           label  \n",
       "0      [Find a barrier that's about mid shin level.]          [days]  \n",
       "1  [Set your sensitivity to 6 or above., Catch th...  [hours, hours]  \n",
       "2  [Put your car in reverse and slowly move backw...          [days]  \n",
       "3  [Make notes in a notebook if you can't mark up...       [minutes]  \n",
       "4                       [Try a Mediterranean touch.]         [hours]  "
      ]
     },
     "execution_count": 33,
     "metadata": {},
     "output_type": "execute_result"
    }
   ],
   "source": [
    "grouped_coarsegrained.head()"
   ]
  },
  {
   "cell_type": "code",
   "execution_count": 28,
   "metadata": {},
   "outputs": [],
   "source": [
    "dic = {\"sessions\": []}\n",
    "for row in grouped_finegrained.itertuples():\n",
    "    text = row.title + \"\\n\"\n",
    "    for i, (action, minute) in enumerate(zip(row.action, row.minutes)):\n",
    "        text += f\"{i+1}. {action} ({minute})\\n\"\n",
    "    dic[\"sessions\"].append(text.strip())\n",
    "cotak_finegrained_df = pd.DataFrame(dic)"
   ]
  },
  {
   "cell_type": "code",
   "execution_count": 38,
   "metadata": {},
   "outputs": [],
   "source": [
    "dic = {\"sessions\": []}\n",
    "for row in grouped_coarsegrained.itertuples():\n",
    "    if \"minutes\" not in row.label or \"hours\" not in row.label:\n",
    "        continue\n",
    "    text = row.title + \"\\n\"\n",
    "    for i, (action, label) in enumerate(zip(row.action, row.label)):\n",
    "        text += f\"{i+1}. {action} ({label})\\n\"\n",
    "    dic[\"sessions\"].append(text.strip())\n",
    "cotak_coarsegrained_df = pd.DataFrame(dic)"
   ]
  },
  {
   "cell_type": "code",
   "execution_count": 29,
   "metadata": {},
   "outputs": [
    {
     "data": {
      "text/html": [
       "<div>\n",
       "<style scoped>\n",
       "    .dataframe tbody tr th:only-of-type {\n",
       "        vertical-align: middle;\n",
       "    }\n",
       "\n",
       "    .dataframe tbody tr th {\n",
       "        vertical-align: top;\n",
       "    }\n",
       "\n",
       "    .dataframe thead th {\n",
       "        text-align: right;\n",
       "    }\n",
       "</style>\n",
       "<table border=\"1\" class=\"dataframe\">\n",
       "  <thead>\n",
       "    <tr style=\"text-align: right;\">\n",
       "      <th></th>\n",
       "      <th>sessions</th>\n",
       "    </tr>\n",
       "  </thead>\n",
       "  <tbody>\n",
       "    <tr>\n",
       "      <th>0</th>\n",
       "      <td>How to Accentuate Wavy Hair\\n1. Condition your...</td>\n",
       "    </tr>\n",
       "    <tr>\n",
       "      <th>1</th>\n",
       "      <td>How to Accept Having a Large Bust\\n1. Wear clo...</td>\n",
       "    </tr>\n",
       "    <tr>\n",
       "      <th>2</th>\n",
       "      <td>How to Accept Visa Payments\\n1. Find an acquir...</td>\n",
       "    </tr>\n",
       "    <tr>\n",
       "      <th>3</th>\n",
       "      <td>How to Accept Your Boyfriend's Interest in Por...</td>\n",
       "    </tr>\n",
       "    <tr>\n",
       "      <th>4</th>\n",
       "      <td>How to Accompany a Learner Driver (UK)\\n1. Mak...</td>\n",
       "    </tr>\n",
       "  </tbody>\n",
       "</table>\n",
       "</div>"
      ],
      "text/plain": [
       "                                            sessions\n",
       "0  How to Accentuate Wavy Hair\\n1. Condition your...\n",
       "1  How to Accept Having a Large Bust\\n1. Wear clo...\n",
       "2  How to Accept Visa Payments\\n1. Find an acquir...\n",
       "3  How to Accept Your Boyfriend's Interest in Por...\n",
       "4  How to Accompany a Learner Driver (UK)\\n1. Mak..."
      ]
     },
     "execution_count": 29,
     "metadata": {},
     "output_type": "execute_result"
    }
   ],
   "source": [
    "cotak_finegrained_df.head()"
   ]
  },
  {
   "cell_type": "code",
   "execution_count": 39,
   "metadata": {},
   "outputs": [
    {
     "data": {
      "text/html": [
       "<div>\n",
       "<style scoped>\n",
       "    .dataframe tbody tr th:only-of-type {\n",
       "        vertical-align: middle;\n",
       "    }\n",
       "\n",
       "    .dataframe tbody tr th {\n",
       "        vertical-align: top;\n",
       "    }\n",
       "\n",
       "    .dataframe thead th {\n",
       "        text-align: right;\n",
       "    }\n",
       "</style>\n",
       "<table border=\"1\" class=\"dataframe\">\n",
       "  <thead>\n",
       "    <tr style=\"text-align: right;\">\n",
       "      <th></th>\n",
       "      <th>sessions</th>\n",
       "    </tr>\n",
       "  </thead>\n",
       "  <tbody>\n",
       "    <tr>\n",
       "      <th>0</th>\n",
       "      <td>How to Accommodate a New Baby in a Shift Work ...</td>\n",
       "    </tr>\n",
       "    <tr>\n",
       "      <th>1</th>\n",
       "      <td>How to Act Like Dr. Gregory House\\n1. Act conf...</td>\n",
       "    </tr>\n",
       "    <tr>\n",
       "      <th>2</th>\n",
       "      <td>How to Act Like a Hipster\\n1. Smoke luxury cig...</td>\n",
       "    </tr>\n",
       "    <tr>\n",
       "      <th>3</th>\n",
       "      <td>How to Act Sexy\\n1. Have a direction with your...</td>\n",
       "    </tr>\n",
       "    <tr>\n",
       "      <th>4</th>\n",
       "      <td>How to Activate Internet Tethering on the iPho...</td>\n",
       "    </tr>\n",
       "  </tbody>\n",
       "</table>\n",
       "</div>"
      ],
      "text/plain": [
       "                                            sessions\n",
       "0  How to Accommodate a New Baby in a Shift Work ...\n",
       "1  How to Act Like Dr. Gregory House\\n1. Act conf...\n",
       "2  How to Act Like a Hipster\\n1. Smoke luxury cig...\n",
       "3  How to Act Sexy\\n1. Have a direction with your...\n",
       "4  How to Activate Internet Tethering on the iPho..."
      ]
     },
     "execution_count": 39,
     "metadata": {},
     "output_type": "execute_result"
    }
   ],
   "source": [
    "cotak_coarsegrained_df.head()"
   ]
  },
  {
   "cell_type": "code",
   "execution_count": 36,
   "metadata": {},
   "outputs": [],
   "source": [
    "cotak_finegrained_df.to_csv(\"../sampled_data/cotak_finegrained.csv\", index=False)"
   ]
  },
  {
   "cell_type": "code",
   "execution_count": 40,
   "metadata": {},
   "outputs": [],
   "source": [
    "cotak_coarsegrained_df.to_csv(\"../sampled_data/cotak_coarsegrained.csv\", index=False)"
   ]
  },
  {
   "cell_type": "markdown",
   "metadata": {},
   "source": [
    "## Typical Durations"
   ]
  },
  {
   "cell_type": "code",
   "execution_count": 2,
   "metadata": {},
   "outputs": [
    {
     "name": "stdout",
     "output_type": "stream",
     "text": [
      "typical_durations_files: 58\n"
     ]
    }
   ],
   "source": [
    "typical_durations_files = glob(\"../raw_data/typical_duration/*.xml\")\n",
    "print(f\"typical_durations_files: {len(typical_durations_files)}\")"
   ]
  },
  {
   "cell_type": "code",
   "execution_count": 3,
   "metadata": {},
   "outputs": [],
   "source": [
    "def extract_strings(xml_string):\n",
    "    root = ET.fromstring(xml_string)\n",
    "    all_text = \"\"\n",
    "    for sentences in root.iter(\"s\"):\n",
    "        all_text += \"\".join(sentences.itertext()).strip()\n",
    "\n",
    "    events = []\n",
    "    cnt = 0\n",
    "    for event in root.iter(\"EVENT\"):\n",
    "        if event.text is None:\n",
    "            continue\n",
    "        lower_bound = event.get(\"lowerBoundDuration\", \"\")[1:]\n",
    "        upper_bound = event.get(\"upperBoundDuration\", \"\")[1:]\n",
    "        if not lower_bound or not upper_bound or lower_bound == \"ULL\" or upper_bound == \"ULL\":\n",
    "            continue\n",
    "        if lower_bound.startswith(\"T\"):\n",
    "            lower_bound = lower_bound[1:].lower()\n",
    "        if upper_bound.startswith(\"T\"):\n",
    "            upper_bound = upper_bound[1:].lower()\n",
    "        event_info = f\" ({lower_bound}~{upper_bound})\"\n",
    "        events.append((event.text, event_info))\n",
    "        cnt += 1\n",
    "    \n",
    "    modified_text = \"\"\n",
    "    for event, info in events:\n",
    "        index = all_text.find(event)\n",
    "        modified_text += all_text[:index] + event + info\n",
    "        all_text = all_text[index+len(event):]\n",
    "    modified_text += all_text\n",
    "\n",
    "    return modified_text, cnt"
   ]
  },
  {
   "cell_type": "code",
   "execution_count": 4,
   "metadata": {},
   "outputs": [],
   "source": [
    "data = []\n",
    "all_cnt = 0\n",
    "for file in typical_durations_files:\n",
    "    with open(file) as f:\n",
    "        xml_string = f.read()\n",
    "    text, cnt = extract_strings(xml_string)\n",
    "    all_cnt += cnt\n",
    "    data.append(text)"
   ]
  },
  {
   "cell_type": "code",
   "execution_count": 5,
   "metadata": {},
   "outputs": [
    {
     "name": "stdout",
     "output_type": "stream",
     "text": [
      "2258\n"
     ]
    }
   ],
   "source": [
    "print(all_cnt)"
   ]
  },
  {
   "cell_type": "code",
   "execution_count": 90,
   "metadata": {},
   "outputs": [],
   "source": [
    "typical_durations_df = pd.DataFrame({\"article\": data})"
   ]
  },
  {
   "cell_type": "code",
   "execution_count": 91,
   "metadata": {},
   "outputs": [
    {
     "data": {
      "text/html": [
       "<div>\n",
       "<style scoped>\n",
       "    .dataframe tbody tr th:only-of-type {\n",
       "        vertical-align: middle;\n",
       "    }\n",
       "\n",
       "    .dataframe tbody tr th {\n",
       "        vertical-align: top;\n",
       "    }\n",
       "\n",
       "    .dataframe thead th {\n",
       "        text-align: right;\n",
       "    }\n",
       "</style>\n",
       "<table border=\"1\" class=\"dataframe\">\n",
       "  <thead>\n",
       "    <tr style=\"text-align: right;\">\n",
       "      <th></th>\n",
       "      <th>article</th>\n",
       "    </tr>\n",
       "  </thead>\n",
       "  <tbody>\n",
       "    <tr>\n",
       "      <th>0</th>\n",
       "      <td>The New York Times said (1m~10m) in an editori...</td>\n",
       "    </tr>\n",
       "    <tr>\n",
       "      <th>1</th>\n",
       "      <td>For his part, Fidel Castro is the ultimate pol...</td>\n",
       "    </tr>\n",
       "    <tr>\n",
       "      <th>2</th>\n",
       "      <td>The Pentagon said (10s~5m) today it  will re-e...</td>\n",
       "    </tr>\n",
       "    <tr>\n",
       "      <th>3</th>\n",
       "      <td>The White House said (20s~30m) President Bush ...</td>\n",
       "    </tr>\n",
       "    <tr>\n",
       "      <th>4</th>\n",
       "      <td>Philip Morris Cos., New York, adopted (5m~3h) ...</td>\n",
       "    </tr>\n",
       "  </tbody>\n",
       "</table>\n",
       "</div>"
      ],
      "text/plain": [
       "                                             article\n",
       "0  The New York Times said (1m~10m) in an editori...\n",
       "1  For his part, Fidel Castro is the ultimate pol...\n",
       "2  The Pentagon said (10s~5m) today it  will re-e...\n",
       "3  The White House said (20s~30m) President Bush ...\n",
       "4  Philip Morris Cos., New York, adopted (5m~3h) ..."
      ]
     },
     "execution_count": 91,
     "metadata": {},
     "output_type": "execute_result"
    }
   ],
   "source": [
    "typical_durations_df.head()"
   ]
  },
  {
   "cell_type": "code",
   "execution_count": 92,
   "metadata": {},
   "outputs": [],
   "source": [
    "typical_durations_df.to_csv(\"../sampled_data/typical_durations.csv\", index=False)"
   ]
  },
  {
   "cell_type": "markdown",
   "metadata": {},
   "source": [
    "## TimeDial"
   ]
  },
  {
   "cell_type": "code",
   "execution_count": 3,
   "metadata": {},
   "outputs": [
    {
     "name": "stderr",
     "output_type": "stream",
     "text": [
      "Found cached dataset time_dial (/home/seongbo/.cache/huggingface/datasets/time_dial/default/1.1.0/dda11f5b5bec51caf171fd3224f7d7f79cf4900999efc098cea33d9fa9a4172d)\n"
     ]
    },
    {
     "data": {
      "application/vnd.jupyter.widget-view+json": {
       "model_id": "0177dd348ab94e7dbd09989d81dabb90",
       "version_major": 2,
       "version_minor": 0
      },
      "text/plain": [
       "  0%|          | 0/1 [00:00<?, ?it/s]"
      ]
     },
     "metadata": {},
     "output_type": "display_data"
    }
   ],
   "source": [
    "time_dial = load_dataset(\"time_dial\")"
   ]
  },
  {
   "cell_type": "code",
   "execution_count": 4,
   "metadata": {},
   "outputs": [],
   "source": [
    "time_dial_df = pd.DataFrame(time_dial[\"test\"])\n",
    "time_dial_df[\"conversation\"] = time_dial_df[\"conversation\"].apply(lambda x: \"\\n\".join(x))"
   ]
  },
  {
   "cell_type": "code",
   "execution_count": 5,
   "metadata": {},
   "outputs": [
    {
     "data": {
      "text/html": [
       "<div>\n",
       "<style scoped>\n",
       "    .dataframe tbody tr th:only-of-type {\n",
       "        vertical-align: middle;\n",
       "    }\n",
       "\n",
       "    .dataframe tbody tr th {\n",
       "        vertical-align: top;\n",
       "    }\n",
       "\n",
       "    .dataframe thead th {\n",
       "        text-align: right;\n",
       "    }\n",
       "</style>\n",
       "<table border=\"1\" class=\"dataframe\">\n",
       "  <thead>\n",
       "    <tr style=\"text-align: right;\">\n",
       "      <th></th>\n",
       "      <th>id</th>\n",
       "      <th>conversation</th>\n",
       "      <th>correct1</th>\n",
       "      <th>correct2</th>\n",
       "      <th>incorrect1</th>\n",
       "      <th>incorrect1_rule</th>\n",
       "      <th>incorrect2</th>\n",
       "      <th>incorrect2_rule</th>\n",
       "    </tr>\n",
       "  </thead>\n",
       "  <tbody>\n",
       "    <tr>\n",
       "      <th>0</th>\n",
       "      <td>1</td>\n",
       "      <td>A:We need to take the accounts system offline ...</td>\n",
       "      <td>forty-eight hours</td>\n",
       "      <td>50 hours</td>\n",
       "      <td>two hours</td>\n",
       "      <td>Rule 1</td>\n",
       "      <td>12 days</td>\n",
       "      <td>Rule 2</td>\n",
       "    </tr>\n",
       "    <tr>\n",
       "      <th>1</th>\n",
       "      <td>2</td>\n",
       "      <td>A:your mp3 looks so cool . Where did you get i...</td>\n",
       "      <td>24 hours</td>\n",
       "      <td>none</td>\n",
       "      <td>22 hours</td>\n",
       "      <td>Rule 2</td>\n",
       "      <td>seven seconds</td>\n",
       "      <td>Rule 2</td>\n",
       "    </tr>\n",
       "    <tr>\n",
       "      <th>2</th>\n",
       "      <td>3</td>\n",
       "      <td>A:Anne , would you please come in for a while ...</td>\n",
       "      <td>thirty minutes</td>\n",
       "      <td>forty five minutes</td>\n",
       "      <td>two and half hours</td>\n",
       "      <td>Rule 1</td>\n",
       "      <td>2 seconds</td>\n",
       "      <td>Rule 3</td>\n",
       "    </tr>\n",
       "    <tr>\n",
       "      <th>3</th>\n",
       "      <td>4</td>\n",
       "      <td>A:Our factory locates at a village in the east...</td>\n",
       "      <td>about five years</td>\n",
       "      <td>more than one and half year</td>\n",
       "      <td>about 36 days</td>\n",
       "      <td>Rule 2</td>\n",
       "      <td>about 14 hours</td>\n",
       "      <td>Rule 3</td>\n",
       "    </tr>\n",
       "    <tr>\n",
       "      <th>4</th>\n",
       "      <td>5</td>\n",
       "      <td>A:Hey , Ann . Wake up . It's time to get out o...</td>\n",
       "      <td>30 minutes ago</td>\n",
       "      <td>12  minutes ago</td>\n",
       "      <td>14 hours ago</td>\n",
       "      <td>Rule 3</td>\n",
       "      <td>two seconds ago</td>\n",
       "      <td>Rule 3</td>\n",
       "    </tr>\n",
       "  </tbody>\n",
       "</table>\n",
       "</div>"
      ],
      "text/plain": [
       "   id                                       conversation           correct1  \\\n",
       "0   1  A:We need to take the accounts system offline ...  forty-eight hours   \n",
       "1   2  A:your mp3 looks so cool . Where did you get i...           24 hours   \n",
       "2   3  A:Anne , would you please come in for a while ...     thirty minutes   \n",
       "3   4  A:Our factory locates at a village in the east...   about five years   \n",
       "4   5  A:Hey , Ann . Wake up . It's time to get out o...     30 minutes ago   \n",
       "\n",
       "                       correct2          incorrect1 incorrect1_rule  \\\n",
       "0                     50 hours           two hours           Rule 1   \n",
       "1                          none            22 hours          Rule 2   \n",
       "2            forty five minutes  two and half hours          Rule 1   \n",
       "3  more than one and half year       about 36 days           Rule 2   \n",
       "4              12  minutes ago        14 hours ago           Rule 3   \n",
       "\n",
       "        incorrect2 incorrect2_rule  \n",
       "0         12 days           Rule 2  \n",
       "1   seven seconds           Rule 2  \n",
       "2        2 seconds          Rule 3  \n",
       "3  about 14 hours           Rule 3  \n",
       "4  two seconds ago          Rule 3  "
      ]
     },
     "execution_count": 5,
     "metadata": {},
     "output_type": "execute_result"
    }
   ],
   "source": [
    "time_dial_df.head()"
   ]
  },
  {
   "cell_type": "code",
   "execution_count": 6,
   "metadata": {},
   "outputs": [],
   "source": [
    "time_dial_df.to_csv(\"../sampled_data/time_dial.csv\", index=False)"
   ]
  },
  {
   "cell_type": "code",
   "execution_count": 16,
   "metadata": {},
   "outputs": [],
   "source": [
    "with open(\"../results/gpt-4_mc_taco_1shot.jsonl\") as f:\n",
    "    data = [json.loads(line) for line in f]"
   ]
  },
  {
   "cell_type": "code",
   "execution_count": 17,
   "metadata": {},
   "outputs": [],
   "source": [
    "num_turns = []\n",
    "for d in data:\n",
    "    generated_text = d[\"generated\"].lower()\n",
    "    num_turns.append(max(0, generated_text.count(\"speaker a\") + generated_text.count(\"speaker b\") - 1))"
   ]
  },
  {
   "cell_type": "code",
   "execution_count": 18,
   "metadata": {},
   "outputs": [
    {
     "name": "stdout",
     "output_type": "stream",
     "text": [
      "max turns: 5\n",
      "min turns: 3\n",
      "mean turns: 4.515432098765432\n"
     ]
    }
   ],
   "source": [
    "print(f\"max turns: {max(num_turns)}\")\n",
    "print(f\"min turns: {min(num_turns)}\")\n",
    "print(f\"mean turns: {sum(num_turns) / len(num_turns)}\")"
   ]
  },
  {
   "cell_type": "code",
   "execution_count": 14,
   "metadata": {},
   "outputs": [],
   "source": [
    "df = pd.DataFrame(data)"
   ]
  },
  {
   "cell_type": "code",
   "execution_count": 15,
   "metadata": {},
   "outputs": [],
   "source": [
    "df[[\"user_prompt\", \"generated\"]].to_csv(\"../results/gpt-4_mc_taco_0shot.csv\", index=False)"
   ]
  },
  {
   "cell_type": "markdown",
   "metadata": {},
   "source": [
    "## ATOMIC 2020"
   ]
  },
  {
   "cell_type": "code",
   "execution_count": 3,
   "metadata": {},
   "outputs": [],
   "source": [
    "atomic_2020 = load_dataset(\"Estwld/atomic2020-origin\")"
   ]
  },
  {
   "cell_type": "code",
   "execution_count": 4,
   "metadata": {},
   "outputs": [],
   "source": [
    "df_train = pd.DataFrame(atomic_2020[\"train\"])\n",
    "df_val = pd.DataFrame(atomic_2020[\"validation\"])\n",
    "df_test = pd.DataFrame(atomic_2020[\"test\"])"
   ]
  },
  {
   "cell_type": "code",
   "execution_count": 5,
   "metadata": {},
   "outputs": [
    {
     "data": {
      "text/html": [
       "<div>\n",
       "<style scoped>\n",
       "    .dataframe tbody tr th:only-of-type {\n",
       "        vertical-align: middle;\n",
       "    }\n",
       "\n",
       "    .dataframe tbody tr th {\n",
       "        vertical-align: top;\n",
       "    }\n",
       "\n",
       "    .dataframe thead th {\n",
       "        text-align: right;\n",
       "    }\n",
       "</style>\n",
       "<table border=\"1\" class=\"dataframe\">\n",
       "  <thead>\n",
       "    <tr style=\"text-align: right;\">\n",
       "      <th></th>\n",
       "      <th>knowledge_type</th>\n",
       "      <th>event</th>\n",
       "      <th>relation</th>\n",
       "      <th>relation_description</th>\n",
       "      <th>tail</th>\n",
       "    </tr>\n",
       "  </thead>\n",
       "  <tbody>\n",
       "    <tr>\n",
       "      <th>0</th>\n",
       "      <td>social_intercation</td>\n",
       "      <td>PersonX abuses PersonX's power</td>\n",
       "      <td>oEffect</td>\n",
       "      <td>What effects does the event have on others?</td>\n",
       "      <td>[are told what to do, given unfair consequence...</td>\n",
       "    </tr>\n",
       "    <tr>\n",
       "      <th>1</th>\n",
       "      <td>social_intercation</td>\n",
       "      <td>PersonX abuses PersonX's power</td>\n",
       "      <td>oReact</td>\n",
       "      <td>How do others' feel after the event?</td>\n",
       "      <td>[humiliated, sad, angry, cheated]</td>\n",
       "    </tr>\n",
       "    <tr>\n",
       "      <th>2</th>\n",
       "      <td>social_intercation</td>\n",
       "      <td>PersonX abuses PersonX's power</td>\n",
       "      <td>oWant</td>\n",
       "      <td>What would others likely want to do after the ...</td>\n",
       "      <td>[report PersonX to HR, get PersonX fired, to e...</td>\n",
       "    </tr>\n",
       "    <tr>\n",
       "      <th>3</th>\n",
       "      <td>social_intercation</td>\n",
       "      <td>PersonX abuses PersonX's power</td>\n",
       "      <td>xAttr</td>\n",
       "      <td>How would X be described?</td>\n",
       "      <td>[out of line, irresponsible, mean, confident, ...</td>\n",
       "    </tr>\n",
       "    <tr>\n",
       "      <th>4</th>\n",
       "      <td>social_intercation</td>\n",
       "      <td>PersonX abuses PersonX's power</td>\n",
       "      <td>xEffect</td>\n",
       "      <td>What effects does the event have on X?</td>\n",
       "      <td>[becomes authoratarian, is ostracized, is reli...</td>\n",
       "    </tr>\n",
       "  </tbody>\n",
       "</table>\n",
       "</div>"
      ],
      "text/plain": [
       "       knowledge_type                           event relation  \\\n",
       "0  social_intercation  PersonX abuses PersonX's power  oEffect   \n",
       "1  social_intercation  PersonX abuses PersonX's power   oReact   \n",
       "2  social_intercation  PersonX abuses PersonX's power    oWant   \n",
       "3  social_intercation  PersonX abuses PersonX's power    xAttr   \n",
       "4  social_intercation  PersonX abuses PersonX's power  xEffect   \n",
       "\n",
       "                                relation_description  \\\n",
       "0        What effects does the event have on others?   \n",
       "1               How do others' feel after the event?   \n",
       "2  What would others likely want to do after the ...   \n",
       "3                          How would X be described?   \n",
       "4             What effects does the event have on X?   \n",
       "\n",
       "                                                tail  \n",
       "0  [are told what to do, given unfair consequence...  \n",
       "1                  [humiliated, sad, angry, cheated]  \n",
       "2  [report PersonX to HR, get PersonX fired, to e...  \n",
       "3  [out of line, irresponsible, mean, confident, ...  \n",
       "4  [becomes authoratarian, is ostracized, is reli...  "
      ]
     },
     "execution_count": 5,
     "metadata": {},
     "output_type": "execute_result"
    }
   ],
   "source": [
    "df_test.head()"
   ]
  },
  {
   "cell_type": "code",
   "execution_count": 6,
   "metadata": {},
   "outputs": [],
   "source": [
    "desc = df_test[df_test[\"knowledge_type\"] == \"event_centered\"].groupby(\"relation\")[\"relation_description\"].first().reset_index()"
   ]
  },
  {
   "cell_type": "code",
   "execution_count": 7,
   "metadata": {},
   "outputs": [
    {
     "name": "stdout",
     "output_type": "stream",
     "text": [
      "Causes: Causes specifically captures the causal relation between two events or entities.\n",
      "HasSubEvent: HasSubEvent provides the internal structure of an event, each tail denoting a step within the larger head event.\n",
      "HinderedBy: HinderedyBy introduces hindrances that obstruct the natural path to the achievement of a goal.\n",
      "isAfter: isAfter introduces events that can follow an event.\n",
      "isBefore: isBefore introduces events that can precede an event.\n",
      "isFilledBy: isFilledBy provides a filler phrase for an event with a blank that is sensical and commonly acceptable for the event.\n",
      "xReason: xReason provides a post-fact explanation of the cause of an event.\n"
     ]
    }
   ],
   "source": [
    "for row in desc.itertuples():\n",
    "    print(f\"{row.relation}: {row.relation_description}\")"
   ]
  },
  {
   "cell_type": "code",
   "execution_count": 8,
   "metadata": {},
   "outputs": [],
   "source": [
    "event_centered_train = df_train[df_train[\"knowledge_type\"] == \"event_centered\"]\n",
    "event_centered_val = df_val[df_val[\"knowledge_type\"] == \"event_centered\"]\n",
    "event_centered_test = df_test[df_test[\"knowledge_type\"] == \"event_centered\"]"
   ]
  },
  {
   "cell_type": "code",
   "execution_count": 9,
   "metadata": {},
   "outputs": [
    {
     "data": {
      "text/html": [
       "<div>\n",
       "<style scoped>\n",
       "    .dataframe tbody tr th:only-of-type {\n",
       "        vertical-align: middle;\n",
       "    }\n",
       "\n",
       "    .dataframe tbody tr th {\n",
       "        vertical-align: top;\n",
       "    }\n",
       "\n",
       "    .dataframe thead th {\n",
       "        text-align: right;\n",
       "    }\n",
       "</style>\n",
       "<table border=\"1\" class=\"dataframe\">\n",
       "  <thead>\n",
       "    <tr style=\"text-align: right;\">\n",
       "      <th></th>\n",
       "      <th>knowledge_type</th>\n",
       "      <th>event</th>\n",
       "      <th>relation</th>\n",
       "      <th>relation_description</th>\n",
       "      <th>tail</th>\n",
       "    </tr>\n",
       "  </thead>\n",
       "  <tbody>\n",
       "    <tr>\n",
       "      <th>23206</th>\n",
       "      <td>event_centered</td>\n",
       "      <td>airplane engine</td>\n",
       "      <td>Causes</td>\n",
       "      <td>Causes specifically captures the causal relati...</td>\n",
       "      <td>[very loud noise]</td>\n",
       "    </tr>\n",
       "    <tr>\n",
       "      <th>23207</th>\n",
       "      <td>event_centered</td>\n",
       "      <td>alcoholism</td>\n",
       "      <td>Causes</td>\n",
       "      <td>Causes specifically captures the causal relati...</td>\n",
       "      <td>[stigma]</td>\n",
       "    </tr>\n",
       "    <tr>\n",
       "      <th>23208</th>\n",
       "      <td>event_centered</td>\n",
       "      <td>archaeology</td>\n",
       "      <td>Causes</td>\n",
       "      <td>Causes specifically captures the causal relati...</td>\n",
       "      <td>[destroy archaeological record]</td>\n",
       "    </tr>\n",
       "    <tr>\n",
       "      <th>23209</th>\n",
       "      <td>event_centered</td>\n",
       "      <td>argument</td>\n",
       "      <td>Causes</td>\n",
       "      <td>Causes specifically captures the causal relati...</td>\n",
       "      <td>[violence]</td>\n",
       "    </tr>\n",
       "    <tr>\n",
       "      <th>23210</th>\n",
       "      <td>event_centered</td>\n",
       "      <td>avalanche</td>\n",
       "      <td>Causes</td>\n",
       "      <td>Causes specifically captures the causal relati...</td>\n",
       "      <td>[crushing village]</td>\n",
       "    </tr>\n",
       "  </tbody>\n",
       "</table>\n",
       "</div>"
      ],
      "text/plain": [
       "       knowledge_type            event relation  \\\n",
       "23206  event_centered  airplane engine   Causes   \n",
       "23207  event_centered       alcoholism   Causes   \n",
       "23208  event_centered      archaeology   Causes   \n",
       "23209  event_centered         argument   Causes   \n",
       "23210  event_centered        avalanche   Causes   \n",
       "\n",
       "                                    relation_description  \\\n",
       "23206  Causes specifically captures the causal relati...   \n",
       "23207  Causes specifically captures the causal relati...   \n",
       "23208  Causes specifically captures the causal relati...   \n",
       "23209  Causes specifically captures the causal relati...   \n",
       "23210  Causes specifically captures the causal relati...   \n",
       "\n",
       "                                  tail  \n",
       "23206                [very loud noise]  \n",
       "23207                         [stigma]  \n",
       "23208  [destroy archaeological record]  \n",
       "23209                       [violence]  \n",
       "23210               [crushing village]  "
      ]
     },
     "execution_count": 9,
     "metadata": {},
     "output_type": "execute_result"
    }
   ],
   "source": [
    "event_centered_test.head()"
   ]
  },
  {
   "cell_type": "code",
   "execution_count": 10,
   "metadata": {},
   "outputs": [
    {
     "name": "stderr",
     "output_type": "stream",
     "text": [
      "/tmp/ipykernel_3200639/242568164.py:4: SettingWithCopyWarning: \n",
      "A value is trying to be set on a copy of a slice from a DataFrame.\n",
      "Try using .loc[row_indexer,col_indexer] = value instead\n",
      "\n",
      "See the caveats in the documentation: https://pandas.pydata.org/pandas-docs/stable/user_guide/indexing.html#returning-a-view-versus-a-copy\n",
      "  processed_train[\"split\"] = \"train\"\n",
      "/tmp/ipykernel_3200639/242568164.py:5: SettingWithCopyWarning: \n",
      "A value is trying to be set on a copy of a slice from a DataFrame.\n",
      "Try using .loc[row_indexer,col_indexer] = value instead\n",
      "\n",
      "See the caveats in the documentation: https://pandas.pydata.org/pandas-docs/stable/user_guide/indexing.html#returning-a-view-versus-a-copy\n",
      "  processed_val[\"split\"] = \"val\"\n",
      "/tmp/ipykernel_3200639/242568164.py:6: SettingWithCopyWarning: \n",
      "A value is trying to be set on a copy of a slice from a DataFrame.\n",
      "Try using .loc[row_indexer,col_indexer] = value instead\n",
      "\n",
      "See the caveats in the documentation: https://pandas.pydata.org/pandas-docs/stable/user_guide/indexing.html#returning-a-view-versus-a-copy\n",
      "  processed_test[\"split\"] = \"test\"\n"
     ]
    }
   ],
   "source": [
    "processed_train = event_centered_train[[\"event\", \"relation\", \"tail\"]]\n",
    "processed_val = event_centered_val[[\"event\", \"relation\", \"tail\"]]\n",
    "processed_test = event_centered_test[[\"event\", \"relation\", \"tail\"]]\n",
    "processed_train[\"split\"] = \"train\"\n",
    "processed_val[\"split\"] = \"val\"\n",
    "processed_test[\"split\"] = \"test\""
   ]
  },
  {
   "cell_type": "code",
   "execution_count": 11,
   "metadata": {},
   "outputs": [
    {
     "name": "stderr",
     "output_type": "stream",
     "text": [
      "/tmp/ipykernel_3200639/1260739958.py:1: SettingWithCopyWarning: \n",
      "A value is trying to be set on a copy of a slice from a DataFrame.\n",
      "Try using .loc[row_indexer,col_indexer] = value instead\n",
      "\n",
      "See the caveats in the documentation: https://pandas.pydata.org/pandas-docs/stable/user_guide/indexing.html#returning-a-view-versus-a-copy\n",
      "  processed_train[\"tail\"] = processed_train[\"tail\"].apply(lambda x: \"\\n\".join([e for e in x if e]))\n",
      "/tmp/ipykernel_3200639/1260739958.py:2: SettingWithCopyWarning: \n",
      "A value is trying to be set on a copy of a slice from a DataFrame.\n",
      "Try using .loc[row_indexer,col_indexer] = value instead\n",
      "\n",
      "See the caveats in the documentation: https://pandas.pydata.org/pandas-docs/stable/user_guide/indexing.html#returning-a-view-versus-a-copy\n",
      "  processed_val[\"tail\"] = processed_val[\"tail\"].apply(lambda x: \"\\n\".join([e for e in x if e]))\n",
      "/tmp/ipykernel_3200639/1260739958.py:3: SettingWithCopyWarning: \n",
      "A value is trying to be set on a copy of a slice from a DataFrame.\n",
      "Try using .loc[row_indexer,col_indexer] = value instead\n",
      "\n",
      "See the caveats in the documentation: https://pandas.pydata.org/pandas-docs/stable/user_guide/indexing.html#returning-a-view-versus-a-copy\n",
      "  processed_test[\"tail\"] = processed_test[\"tail\"].apply(lambda x: \"\\n\".join([e for e in x if e]))\n"
     ]
    }
   ],
   "source": [
    "processed_train[\"tail\"] = processed_train[\"tail\"].apply(lambda x: \"\\n\".join([e for e in x if e]))\n",
    "processed_val[\"tail\"] = processed_val[\"tail\"].apply(lambda x: \"\\n\".join([e for e in x if e]))\n",
    "processed_test[\"tail\"] = processed_test[\"tail\"].apply(lambda x: \"\\n\".join([e for e in x if e]))"
   ]
  },
  {
   "cell_type": "code",
   "execution_count": 12,
   "metadata": {},
   "outputs": [
    {
     "data": {
      "text/html": [
       "<div>\n",
       "<style scoped>\n",
       "    .dataframe tbody tr th:only-of-type {\n",
       "        vertical-align: middle;\n",
       "    }\n",
       "\n",
       "    .dataframe tbody tr th {\n",
       "        vertical-align: top;\n",
       "    }\n",
       "\n",
       "    .dataframe thead th {\n",
       "        text-align: right;\n",
       "    }\n",
       "</style>\n",
       "<table border=\"1\" class=\"dataframe\">\n",
       "  <thead>\n",
       "    <tr style=\"text-align: right;\">\n",
       "      <th></th>\n",
       "      <th>event</th>\n",
       "      <th>relation</th>\n",
       "      <th>tail</th>\n",
       "      <th>split</th>\n",
       "    </tr>\n",
       "  </thead>\n",
       "  <tbody>\n",
       "    <tr>\n",
       "      <th>23206</th>\n",
       "      <td>airplane engine</td>\n",
       "      <td>Causes</td>\n",
       "      <td>very loud noise</td>\n",
       "      <td>test</td>\n",
       "    </tr>\n",
       "    <tr>\n",
       "      <th>23207</th>\n",
       "      <td>alcoholism</td>\n",
       "      <td>Causes</td>\n",
       "      <td>stigma</td>\n",
       "      <td>test</td>\n",
       "    </tr>\n",
       "    <tr>\n",
       "      <th>23208</th>\n",
       "      <td>archaeology</td>\n",
       "      <td>Causes</td>\n",
       "      <td>destroy archaeological record</td>\n",
       "      <td>test</td>\n",
       "    </tr>\n",
       "    <tr>\n",
       "      <th>23209</th>\n",
       "      <td>argument</td>\n",
       "      <td>Causes</td>\n",
       "      <td>violence</td>\n",
       "      <td>test</td>\n",
       "    </tr>\n",
       "    <tr>\n",
       "      <th>23210</th>\n",
       "      <td>avalanche</td>\n",
       "      <td>Causes</td>\n",
       "      <td>crushing village</td>\n",
       "      <td>test</td>\n",
       "    </tr>\n",
       "  </tbody>\n",
       "</table>\n",
       "</div>"
      ],
      "text/plain": [
       "                 event relation                           tail split\n",
       "23206  airplane engine   Causes                very loud noise  test\n",
       "23207       alcoholism   Causes                         stigma  test\n",
       "23208      archaeology   Causes  destroy archaeological record  test\n",
       "23209         argument   Causes                       violence  test\n",
       "23210        avalanche   Causes               crushing village  test"
      ]
     },
     "execution_count": 12,
     "metadata": {},
     "output_type": "execute_result"
    }
   ],
   "source": [
    "processed_test.head()"
   ]
  },
  {
   "cell_type": "code",
   "execution_count": 13,
   "metadata": {},
   "outputs": [
    {
     "name": "stdout",
     "output_type": "stream",
     "text": [
      "Train:\n",
      "relation\n",
      "HinderedBy     31167\n",
      "isBefore       17094\n",
      "isAfter        16485\n",
      "isFilledBy      3197\n",
      "HasSubEvent     1505\n",
      "Causes           230\n",
      "xReason          119\n",
      "Name: count, dtype: int64\n",
      "Val:\n",
      "relation\n",
      "HinderedBy     4031\n",
      "isBefore       2041\n",
      "isAfter        1959\n",
      "isFilledBy      418\n",
      "HasSubEvent      32\n",
      "Causes            3\n",
      "xReason           1\n",
      "Name: count, dtype: int64\n",
      "Test:\n",
      "relation\n",
      "HinderedBy     7669\n",
      "isBefore       4071\n",
      "isAfter        4008\n",
      "isFilledBy      823\n",
      "HasSubEvent     184\n",
      "Causes           35\n",
      "xReason          17\n",
      "Name: count, dtype: int64\n"
     ]
    }
   ],
   "source": [
    "print(f\"Train:\\n{processed_train['relation'].value_counts()}\")\n",
    "print(f\"Val:\\n{processed_val['relation'].value_counts()}\")\n",
    "print(f\"Test:\\n{processed_test['relation'].value_counts()}\")"
   ]
  },
  {
   "cell_type": "code",
   "execution_count": 14,
   "metadata": {},
   "outputs": [],
   "source": [
    "event_centered_all = pd.concat([processed_train, processed_val, processed_test])"
   ]
  },
  {
   "cell_type": "code",
   "execution_count": 17,
   "metadata": {},
   "outputs": [],
   "source": [
    "template = {\n",
    "    \"Causes\": \"causes\",\n",
    "    \"HasSubEvent\": \"includes\",\n",
    "    \"HinderedBy\": \"can be hindered by\",\n",
    "    \"isAfter\": \"happens after\",\n",
    "    \"isBefore\": \"happens before\",\n",
    "    \"isFilledBy\": \"\",\n",
    "    \"xReason\": \"because\"\n",
    "}"
   ]
  },
  {
   "cell_type": "code",
   "execution_count": 18,
   "metadata": {},
   "outputs": [],
   "source": [
    "with open(\"../resources/atomic_2020_event_centered.jsonl\", \"w\") as f:\n",
    "    for row in event_centered_all.itertuples():\n",
    "        tail = random.choice(row.tail.split(\"\\n\"))\n",
    "        connector = template[row.relation]\n",
    "        if not connector:\n",
    "            assert \"___\" in row.event\n",
    "            narrative = row.event.replace(\"___\", tail)\n",
    "        else:\n",
    "            narrative = f\"{row.event.strip()} {connector} {tail.strip()}\"\n",
    "        f.write(\n",
    "            json.dumps(\n",
    "                {\n",
    "                    \"split\": row.split,\n",
    "                    \"event\": row.event,\n",
    "                    \"relation\": row.relation,\n",
    "                    \"tail\": tail,\n",
    "                    \"narrative\": narrative\n",
    "                }\n",
    "            ) + \"\\n\"\n",
    "        )"
   ]
  },
  {
   "cell_type": "code",
   "execution_count": null,
   "metadata": {},
   "outputs": [],
   "source": []
  }
 ],
 "metadata": {
  "kernelspec": {
   "display_name": "Python 3",
   "language": "python",
   "name": "python3"
  },
  "language_info": {
   "codemirror_mode": {
    "name": "ipython",
    "version": 3
   },
   "file_extension": ".py",
   "mimetype": "text/x-python",
   "name": "python",
   "nbconvert_exporter": "python",
   "pygments_lexer": "ipython3",
   "version": "3.10.12"
  }
 },
 "nbformat": 4,
 "nbformat_minor": 2
}
