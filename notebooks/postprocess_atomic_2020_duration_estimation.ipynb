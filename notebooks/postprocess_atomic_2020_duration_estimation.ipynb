{
 "cells": [
  {
   "cell_type": "code",
   "execution_count": 22,
   "metadata": {},
   "outputs": [],
   "source": [
    "import json\n",
    "import random\n",
    "import re\n",
    "\n",
    "import pandas as pd"
   ]
  },
  {
   "cell_type": "code",
   "execution_count": 3,
   "metadata": {},
   "outputs": [],
   "source": [
    "with open(\"../results/gpt-3.5-turbo-0125/3shots/atomic_2020_duration_estimation.jsonl\") as f:\n",
    "    data = [json.loads(line) for line in f]"
   ]
  },
  {
   "cell_type": "code",
   "execution_count": 4,
   "metadata": {},
   "outputs": [],
   "source": [
    "keywords = [\"minutes\", \"mins\", \"hour\", \"hrs\", \"1 day\", \"one day\", \"a day\"]\n",
    "durations = []\n",
    "invalid_durations = []\n",
    "for d in data:\n",
    "    match = re.search(r'\\nAnswer: (.+?)$', d[\"generated\"])\n",
    "    if match:\n",
    "        duration = match.group(1)\n",
    "        if any(keyword in duration for keyword in keywords):\n",
    "            durations.append(\n",
    "                {\n",
    "                    \"narrative\": d[\"user_prompt\"].split(\"Narrative:\")[1].strip(),\n",
    "                    \"question\": d[\"generated\"].split(\"\\n\")[0].replace(\"Question:\", \"\").strip(),\n",
    "                    \"answer\": duration\n",
    "                }\n",
    "            )\n",
    "        else:\n",
    "            invalid_durations.append(\n",
    "                {\n",
    "                    \"narrative\": d[\"user_prompt\"].split(\"Narrative:\")[1].strip(),\n",
    "                    \"question\": d[\"generated\"].split(\"\\n\")[0].replace(\"Question:\", \"\").strip(),\n",
    "                    \"answer\": duration\n",
    "                }\n",
    "            )"
   ]
  },
  {
   "cell_type": "code",
   "execution_count": 5,
   "metadata": {},
   "outputs": [
    {
     "name": "stdout",
     "output_type": "stream",
     "text": [
      "Valid durations: 57049\n",
      "Invalid durations: 37920\n"
     ]
    }
   ],
   "source": [
    "print(\"Valid durations:\", len(durations))\n",
    "print(\"Invalid durations:\", len(invalid_durations))"
   ]
  },
  {
   "cell_type": "code",
   "execution_count": 6,
   "metadata": {},
   "outputs": [
    {
     "data": {
      "text/plain": [
       "[{'narrative': \"alcohol causes brewer's droop\",\n",
       "  'question': \"How long does it take for brewer's droop to occur after consuming alcohol?\",\n",
       "  'answer': 'It can occur within a few hours after consuming a significant amount of alcohol.'},\n",
       " {'narrative': 'anxiety causes sleep loss',\n",
       "  'question': 'How long does the sleep loss typically last due to anxiety?',\n",
       "  'answer': 'hours to days'},\n",
       " {'narrative': 'arousal causes ejaculation',\n",
       "  'question': 'How long does it typically take from arousal to ejaculation?',\n",
       "  'answer': 'a few minutes'},\n",
       " {'narrative': 'arson causes sometimes death',\n",
       "  'question': 'How long does it typically take for firefighters to extinguish a fire caused by arson?',\n",
       "  'answer': '3 hours'},\n",
       " {'narrative': 'bag causes travel',\n",
       "  'question': 'How long does it typically take to pack for a trip?',\n",
       "  'answer': '30 minutes to 1 hour'},\n",
       " {'narrative': 'beer causes drunkenness',\n",
       "  'question': 'How long does it typically take for beer to cause drunkenness?',\n",
       "  'answer': 'It typically takes a few hours for beer to cause drunkenness.'},\n",
       " {'narrative': 'birthday causes party',\n",
       "  'question': 'How long does the birthday party typically last?',\n",
       "  'answer': '3 hours'},\n",
       " {'narrative': 'blind date causes boredom',\n",
       "  'question': 'How long does the blind date typically last?',\n",
       "  'answer': 'The blind date typically lasts around 1-2 hours.'},\n",
       " {'narrative': 'caffiene causes headache to go away',\n",
       "  'question': 'How long does it typically take for caffeine to relieve a headache?',\n",
       "  'answer': '30 minutes'},\n",
       " {'narrative': 'call causes meet',\n",
       "  'question': 'How long does the call last?',\n",
       "  'answer': '10 minutes'}]"
      ]
     },
     "execution_count": 6,
     "metadata": {},
     "output_type": "execute_result"
    }
   ],
   "source": [
    "durations[:10]"
   ]
  },
  {
   "cell_type": "code",
   "execution_count": 7,
   "metadata": {},
   "outputs": [],
   "source": [
    "with open(\"../resources/atomic_2020_narratives.jsonl\", \"w\") as f:\n",
    "    for d in durations:\n",
    "        f.write(json.dumps(d) + \"\\n\")"
   ]
  },
  {
   "cell_type": "code",
   "execution_count": 15,
   "metadata": {},
   "outputs": [],
   "source": [
    "with open(\"../resources/atomic_2020_narratives.jsonl\") as f:\n",
    "    data = [json.loads(line) for line in f]"
   ]
  },
  {
   "cell_type": "code",
   "execution_count": 19,
   "metadata": {},
   "outputs": [],
   "source": [
    "sampled = {\n",
    "    \" causes \": [],\n",
    "    \" includes \": [],\n",
    "    \" can be hindered by \": [],\n",
    "    \" happens after \": [],\n",
    "    \" happens before \": [],\n",
    "    \" because \": []\n",
    "}"
   ]
  },
  {
   "cell_type": "code",
   "execution_count": 20,
   "metadata": {},
   "outputs": [],
   "source": [
    "for d in data:\n",
    "    for k in sampled.keys():\n",
    "        if k in d[\"narrative\"]:\n",
    "            sampled[k].append(d)\n",
    "            break"
   ]
  },
  {
   "cell_type": "code",
   "execution_count": 21,
   "metadata": {},
   "outputs": [
    {
     "name": "stdout",
     "output_type": "stream",
     "text": [
      " causes  173\n",
      " includes  1211\n",
      " can be hindered by  24247\n",
      " happens after  14100\n",
      " happens before  14260\n",
      " because  102\n"
     ]
    }
   ],
   "source": [
    "for k, v in sampled.items():\n",
    "    print(k, len(v))"
   ]
  },
  {
   "cell_type": "code",
   "execution_count": 23,
   "metadata": {},
   "outputs": [],
   "source": [
    "sampled = {k: random.sample(v, 10) for k, v in sampled.items()}"
   ]
  },
  {
   "cell_type": "code",
   "execution_count": 25,
   "metadata": {},
   "outputs": [],
   "source": [
    "relation_map = {\n",
    "    \" causes \": \"Causes\",\n",
    "    \" includes \": \"HasSubEvent\",\n",
    "    \" can be hindered by \": \"HinderedBy\",\n",
    "    \" happens after \": \"isAfter\",\n",
    "    \" happens before \": \"isBefore\",\n",
    "    \" because \": \"xReason\"\n",
    "}"
   ]
  },
  {
   "cell_type": "code",
   "execution_count": 26,
   "metadata": {},
   "outputs": [],
   "source": [
    "new_dics = []\n",
    "for k, v in sampled.items():\n",
    "    for d in v:\n",
    "        new_dics.append(\n",
    "            {\n",
    "                \"relation\": relation_map[k],\n",
    "                \"narrative\": d[\"narrative\"],\n",
    "                \"question\": d[\"question\"],\n",
    "                \"answer\": d[\"answer\"]\n",
    "            }\n",
    "        )"
   ]
  },
  {
   "cell_type": "code",
   "execution_count": 27,
   "metadata": {},
   "outputs": [],
   "source": [
    "with open(\"../resources/atomic_2020_narratives_sampled.jsonl\", \"w\") as f:\n",
    "    for d in new_dics:\n",
    "        f.write(json.dumps(d) + \"\\n\")"
   ]
  },
  {
   "cell_type": "code",
   "execution_count": null,
   "metadata": {},
   "outputs": [],
   "source": []
  }
 ],
 "metadata": {
  "kernelspec": {
   "display_name": "venv",
   "language": "python",
   "name": "python3"
  },
  "language_info": {
   "codemirror_mode": {
    "name": "ipython",
    "version": 3
   },
   "file_extension": ".py",
   "mimetype": "text/x-python",
   "name": "python",
   "nbconvert_exporter": "python",
   "pygments_lexer": "ipython3",
   "version": "3.10.12"
  }
 },
 "nbformat": 4,
 "nbformat_minor": 2
}
